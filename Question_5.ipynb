{
 "cells": [
  {
   "cell_type": "markdown",
   "metadata": {},
   "source": [
    "# Rover Analytics "
   ]
  },
  {
   "cell_type": "markdown",
   "metadata": {},
   "source": [
    "## Question 5: New Conversation Flow A/B Test"
   ]
  },
  {
   "cell_type": "code",
   "execution_count": 60,
   "metadata": {},
   "outputs": [],
   "source": [
    "\n",
    "import pandas as pd\n",
    "import matplotlib.pyplot as plt\n",
    "import numpy as np\n",
    "import scipy.stats as stats\n"
   ]
  },
  {
   "cell_type": "code",
   "execution_count": 61,
   "metadata": {},
   "outputs": [],
   "source": [
    "AB_df = pd.read_csv(\"csvs/people_testsegmentation.csv\") #read in test dataset\n",
    "                                                        #note: person_id matches people_person"
   ]
  },
  {
   "cell_type": "code",
   "execution_count": 62,
   "metadata": {},
   "outputs": [],
   "source": [
    "conversations = pd.read_csv('csvs/conversations_conversation.csv') #read in conversations_conversations dataframe\n",
    "                                                                   #note: requester_id matches people_person id.\n",
    "                                                                   #we can likely merge dataframes based on this feature."
   ]
  },
  {
   "cell_type": "code",
   "execution_count": 63,
   "metadata": {},
   "outputs": [
    {
     "data": {
      "text/html": [
       "<div>\n",
       "<style scoped>\n",
       "    .dataframe tbody tr th:only-of-type {\n",
       "        vertical-align: middle;\n",
       "    }\n",
       "\n",
       "    .dataframe tbody tr th {\n",
       "        vertical-align: top;\n",
       "    }\n",
       "\n",
       "    .dataframe thead th {\n",
       "        text-align: right;\n",
       "    }\n",
       "</style>\n",
       "<table border=\"1\" class=\"dataframe\">\n",
       "  <thead>\n",
       "    <tr style=\"text-align: right;\">\n",
       "      <th></th>\n",
       "      <th>id</th>\n",
       "      <th>start_date</th>\n",
       "      <th>end_date</th>\n",
       "      <th>units</th>\n",
       "      <th>added</th>\n",
       "      <th>booking_total</th>\n",
       "      <th>cancellation_fault</th>\n",
       "      <th>requester_id</th>\n",
       "      <th>service_id</th>\n",
       "      <th>booked_at</th>\n",
       "      <th>cancelled_at</th>\n",
       "    </tr>\n",
       "  </thead>\n",
       "  <tbody>\n",
       "    <tr>\n",
       "      <th>0</th>\n",
       "      <td>1</td>\n",
       "      <td>2018-07-26</td>\n",
       "      <td>2018-07-31</td>\n",
       "      <td>5</td>\n",
       "      <td>2018-07-16 10:17:53.460035</td>\n",
       "      <td>120</td>\n",
       "      <td>NaN</td>\n",
       "      <td>64393</td>\n",
       "      <td>4646</td>\n",
       "      <td>NaN</td>\n",
       "      <td>NaN</td>\n",
       "    </tr>\n",
       "  </tbody>\n",
       "</table>\n",
       "</div>"
      ],
      "text/plain": [
       "   id  start_date    end_date  units                       added  \\\n",
       "0   1  2018-07-26  2018-07-31      5  2018-07-16 10:17:53.460035   \n",
       "\n",
       "   booking_total cancellation_fault  requester_id  service_id booked_at  \\\n",
       "0            120                NaN         64393        4646       NaN   \n",
       "\n",
       "  cancelled_at  \n",
       "0          NaN  "
      ]
     },
     "execution_count": 63,
     "metadata": {},
     "output_type": "execute_result"
    }
   ],
   "source": [
    "conversations.head(1)"
   ]
  },
  {
   "cell_type": "code",
   "execution_count": 64,
   "metadata": {},
   "outputs": [],
   "source": [
    "webpage_test = AB_df[AB_df['test_name']  == 'New Conversation Flow'] #this gives us the webpage dataframe"
   ]
  },
  {
   "cell_type": "code",
   "execution_count": 65,
   "metadata": {},
   "outputs": [],
   "source": [
    "test_conversations = pd.merge(left=webpage_test, right=conversations, \n",
    "                                  left_on=webpage_test['person_id'], right_on=conversations['requester_id'])\n",
    "\n",
    "#merge webpage_test dataframe with the conversations dataframe to look at conversations leading to bookings"
   ]
  },
  {
   "cell_type": "code",
   "execution_count": 66,
   "metadata": {},
   "outputs": [
    {
     "data": {
      "text/html": [
       "<div>\n",
       "<style scoped>\n",
       "    .dataframe tbody tr th:only-of-type {\n",
       "        vertical-align: middle;\n",
       "    }\n",
       "\n",
       "    .dataframe tbody tr th {\n",
       "        vertical-align: top;\n",
       "    }\n",
       "\n",
       "    .dataframe thead th {\n",
       "        text-align: right;\n",
       "    }\n",
       "</style>\n",
       "<table border=\"1\" class=\"dataframe\">\n",
       "  <thead>\n",
       "    <tr style=\"text-align: right;\">\n",
       "      <th></th>\n",
       "      <th>key_0</th>\n",
       "      <th>id_x</th>\n",
       "      <th>test_name</th>\n",
       "      <th>test_group</th>\n",
       "      <th>added_x</th>\n",
       "      <th>person_id</th>\n",
       "      <th>id_y</th>\n",
       "      <th>start_date</th>\n",
       "      <th>end_date</th>\n",
       "      <th>units</th>\n",
       "      <th>added_y</th>\n",
       "      <th>booking_total</th>\n",
       "      <th>cancellation_fault</th>\n",
       "      <th>requester_id</th>\n",
       "      <th>service_id</th>\n",
       "      <th>booked_at</th>\n",
       "      <th>cancelled_at</th>\n",
       "    </tr>\n",
       "  </thead>\n",
       "  <tbody>\n",
       "    <tr>\n",
       "      <th>0</th>\n",
       "      <td>64393</td>\n",
       "      <td>64394</td>\n",
       "      <td>New Conversation Flow</td>\n",
       "      <td>variant</td>\n",
       "      <td>2018-07-16 10:17:53.460035</td>\n",
       "      <td>64393</td>\n",
       "      <td>1</td>\n",
       "      <td>2018-07-26</td>\n",
       "      <td>2018-07-31</td>\n",
       "      <td>5</td>\n",
       "      <td>2018-07-16 10:17:53.460035</td>\n",
       "      <td>120</td>\n",
       "      <td>NaN</td>\n",
       "      <td>64393</td>\n",
       "      <td>4646</td>\n",
       "      <td>NaN</td>\n",
       "      <td>NaN</td>\n",
       "    </tr>\n",
       "    <tr>\n",
       "      <th>1</th>\n",
       "      <td>64392</td>\n",
       "      <td>64395</td>\n",
       "      <td>New Conversation Flow</td>\n",
       "      <td>holdout</td>\n",
       "      <td>2018-08-01 10:20:48.626868</td>\n",
       "      <td>64392</td>\n",
       "      <td>2</td>\n",
       "      <td>2018-08-10</td>\n",
       "      <td>2018-08-16</td>\n",
       "      <td>6</td>\n",
       "      <td>2018-08-01 10:20:48.626868</td>\n",
       "      <td>132</td>\n",
       "      <td>NaN</td>\n",
       "      <td>64392</td>\n",
       "      <td>10126</td>\n",
       "      <td>NaN</td>\n",
       "      <td>NaN</td>\n",
       "    </tr>\n",
       "    <tr>\n",
       "      <th>2</th>\n",
       "      <td>64391</td>\n",
       "      <td>64396</td>\n",
       "      <td>New Conversation Flow</td>\n",
       "      <td>holdout</td>\n",
       "      <td>2018-06-05 16:46:39.542467</td>\n",
       "      <td>64391</td>\n",
       "      <td>3</td>\n",
       "      <td>2018-06-16</td>\n",
       "      <td>2018-06-19</td>\n",
       "      <td>3</td>\n",
       "      <td>2018-06-05 16:46:39.542467</td>\n",
       "      <td>168</td>\n",
       "      <td>NaN</td>\n",
       "      <td>64391</td>\n",
       "      <td>20677</td>\n",
       "      <td>NaN</td>\n",
       "      <td>NaN</td>\n",
       "    </tr>\n",
       "    <tr>\n",
       "      <th>3</th>\n",
       "      <td>64391</td>\n",
       "      <td>64396</td>\n",
       "      <td>New Conversation Flow</td>\n",
       "      <td>holdout</td>\n",
       "      <td>2018-06-05 16:46:39.542467</td>\n",
       "      <td>64391</td>\n",
       "      <td>4</td>\n",
       "      <td>2018-07-13</td>\n",
       "      <td>2018-07-20</td>\n",
       "      <td>7</td>\n",
       "      <td>2018-07-02 09:12:22.275923</td>\n",
       "      <td>490</td>\n",
       "      <td>NaN</td>\n",
       "      <td>64391</td>\n",
       "      <td>3847</td>\n",
       "      <td>NaN</td>\n",
       "      <td>NaN</td>\n",
       "    </tr>\n",
       "    <tr>\n",
       "      <th>4</th>\n",
       "      <td>64389</td>\n",
       "      <td>64397</td>\n",
       "      <td>New Conversation Flow</td>\n",
       "      <td>variant</td>\n",
       "      <td>2018-06-21 16:02:48.694725</td>\n",
       "      <td>64389</td>\n",
       "      <td>5</td>\n",
       "      <td>2018-07-02</td>\n",
       "      <td>2018-07-07</td>\n",
       "      <td>5</td>\n",
       "      <td>2018-06-21 16:02:48.694725</td>\n",
       "      <td>140</td>\n",
       "      <td>NaN</td>\n",
       "      <td>64389</td>\n",
       "      <td>9982</td>\n",
       "      <td>NaN</td>\n",
       "      <td>NaN</td>\n",
       "    </tr>\n",
       "  </tbody>\n",
       "</table>\n",
       "</div>"
      ],
      "text/plain": [
       "   key_0   id_x              test_name test_group                     added_x  \\\n",
       "0  64393  64394  New Conversation Flow    variant  2018-07-16 10:17:53.460035   \n",
       "1  64392  64395  New Conversation Flow    holdout  2018-08-01 10:20:48.626868   \n",
       "2  64391  64396  New Conversation Flow    holdout  2018-06-05 16:46:39.542467   \n",
       "3  64391  64396  New Conversation Flow    holdout  2018-06-05 16:46:39.542467   \n",
       "4  64389  64397  New Conversation Flow    variant  2018-06-21 16:02:48.694725   \n",
       "\n",
       "   person_id  id_y  start_date    end_date  units                     added_y  \\\n",
       "0      64393     1  2018-07-26  2018-07-31      5  2018-07-16 10:17:53.460035   \n",
       "1      64392     2  2018-08-10  2018-08-16      6  2018-08-01 10:20:48.626868   \n",
       "2      64391     3  2018-06-16  2018-06-19      3  2018-06-05 16:46:39.542467   \n",
       "3      64391     4  2018-07-13  2018-07-20      7  2018-07-02 09:12:22.275923   \n",
       "4      64389     5  2018-07-02  2018-07-07      5  2018-06-21 16:02:48.694725   \n",
       "\n",
       "   booking_total cancellation_fault  requester_id  service_id booked_at  \\\n",
       "0            120                NaN         64393        4646       NaN   \n",
       "1            132                NaN         64392       10126       NaN   \n",
       "2            168                NaN         64391       20677       NaN   \n",
       "3            490                NaN         64391        3847       NaN   \n",
       "4            140                NaN         64389        9982       NaN   \n",
       "\n",
       "  cancelled_at  \n",
       "0          NaN  \n",
       "1          NaN  \n",
       "2          NaN  \n",
       "3          NaN  \n",
       "4          NaN  "
      ]
     },
     "execution_count": 66,
     "metadata": {},
     "output_type": "execute_result"
    }
   ],
   "source": [
    "test_conversations.head() #examine the merge"
   ]
  },
  {
   "cell_type": "code",
   "execution_count": 67,
   "metadata": {},
   "outputs": [],
   "source": [
    "no_book = test_conversations['booked_at'].isna()"
   ]
  },
  {
   "cell_type": "code",
   "execution_count": 68,
   "metadata": {},
   "outputs": [],
   "source": [
    "test_conversations['not_booked'] = no_book.astype(int) #cast boolean no_book as 0s and 1s (0 False and 1 True)"
   ]
  },
  {
   "cell_type": "code",
   "execution_count": 69,
   "metadata": {},
   "outputs": [],
   "source": [
    "test_conversations_variant = test_conversations[test_conversations['test_group'] == 'variant']"
   ]
  },
  {
   "cell_type": "code",
   "execution_count": 70,
   "metadata": {},
   "outputs": [],
   "source": [
    "test_conversations_holdout = test_conversations[test_conversations['test_group'] == 'holdout']"
   ]
  },
  {
   "cell_type": "code",
   "execution_count": 71,
   "metadata": {},
   "outputs": [],
   "source": [
    "def binary_encode(x):\n",
    "    if x == 'variant':\n",
    "        return 1\n",
    "    else:\n",
    "        return 0"
   ]
  },
  {
   "cell_type": "code",
   "execution_count": 72,
   "metadata": {},
   "outputs": [],
   "source": [
    "test_conversations['test_group_binary'] = test_conversations['test_group'].apply(lambda x: binary_encode(x))\n",
    "#label those in the test group as 1, else label 0"
   ]
  },
  {
   "cell_type": "code",
   "execution_count": 73,
   "metadata": {},
   "outputs": [],
   "source": [
    "def booked_binary(x):\n",
    "    if x == 1:\n",
    "        return 0\n",
    "    else:\n",
    "        return 1"
   ]
  },
  {
   "cell_type": "code",
   "execution_count": 74,
   "metadata": {},
   "outputs": [],
   "source": [
    "test_conversations['booked'] = test_conversations['not_booked'].apply(lambda x: booked_binary(x)) \n",
    "#label those that booked as a 1, else label 0\n",
    "                    "
   ]
  },
  {
   "cell_type": "code",
   "execution_count": 75,
   "metadata": {},
   "outputs": [
    {
     "data": {
      "text/html": [
       "<div>\n",
       "<style scoped>\n",
       "    .dataframe tbody tr th:only-of-type {\n",
       "        vertical-align: middle;\n",
       "    }\n",
       "\n",
       "    .dataframe tbody tr th {\n",
       "        vertical-align: top;\n",
       "    }\n",
       "\n",
       "    .dataframe thead th {\n",
       "        text-align: right;\n",
       "    }\n",
       "</style>\n",
       "<table border=\"1\" class=\"dataframe\">\n",
       "  <thead>\n",
       "    <tr style=\"text-align: right;\">\n",
       "      <th></th>\n",
       "      <th>key_0</th>\n",
       "      <th>id_x</th>\n",
       "      <th>test_name</th>\n",
       "      <th>test_group</th>\n",
       "      <th>added_x</th>\n",
       "      <th>person_id</th>\n",
       "      <th>id_y</th>\n",
       "      <th>start_date</th>\n",
       "      <th>end_date</th>\n",
       "      <th>units</th>\n",
       "      <th>added_y</th>\n",
       "      <th>booking_total</th>\n",
       "      <th>cancellation_fault</th>\n",
       "      <th>requester_id</th>\n",
       "      <th>service_id</th>\n",
       "      <th>booked_at</th>\n",
       "      <th>cancelled_at</th>\n",
       "      <th>not_booked</th>\n",
       "      <th>test_group_binary</th>\n",
       "      <th>booked</th>\n",
       "    </tr>\n",
       "  </thead>\n",
       "  <tbody>\n",
       "    <tr>\n",
       "      <th>0</th>\n",
       "      <td>64393</td>\n",
       "      <td>64394</td>\n",
       "      <td>New Conversation Flow</td>\n",
       "      <td>variant</td>\n",
       "      <td>2018-07-16 10:17:53.460035</td>\n",
       "      <td>64393</td>\n",
       "      <td>1</td>\n",
       "      <td>2018-07-26</td>\n",
       "      <td>2018-07-31</td>\n",
       "      <td>5</td>\n",
       "      <td>2018-07-16 10:17:53.460035</td>\n",
       "      <td>120</td>\n",
       "      <td>NaN</td>\n",
       "      <td>64393</td>\n",
       "      <td>4646</td>\n",
       "      <td>NaN</td>\n",
       "      <td>NaN</td>\n",
       "      <td>1</td>\n",
       "      <td>1</td>\n",
       "      <td>0</td>\n",
       "    </tr>\n",
       "    <tr>\n",
       "      <th>1</th>\n",
       "      <td>64392</td>\n",
       "      <td>64395</td>\n",
       "      <td>New Conversation Flow</td>\n",
       "      <td>holdout</td>\n",
       "      <td>2018-08-01 10:20:48.626868</td>\n",
       "      <td>64392</td>\n",
       "      <td>2</td>\n",
       "      <td>2018-08-10</td>\n",
       "      <td>2018-08-16</td>\n",
       "      <td>6</td>\n",
       "      <td>2018-08-01 10:20:48.626868</td>\n",
       "      <td>132</td>\n",
       "      <td>NaN</td>\n",
       "      <td>64392</td>\n",
       "      <td>10126</td>\n",
       "      <td>NaN</td>\n",
       "      <td>NaN</td>\n",
       "      <td>1</td>\n",
       "      <td>0</td>\n",
       "      <td>0</td>\n",
       "    </tr>\n",
       "    <tr>\n",
       "      <th>2</th>\n",
       "      <td>64391</td>\n",
       "      <td>64396</td>\n",
       "      <td>New Conversation Flow</td>\n",
       "      <td>holdout</td>\n",
       "      <td>2018-06-05 16:46:39.542467</td>\n",
       "      <td>64391</td>\n",
       "      <td>3</td>\n",
       "      <td>2018-06-16</td>\n",
       "      <td>2018-06-19</td>\n",
       "      <td>3</td>\n",
       "      <td>2018-06-05 16:46:39.542467</td>\n",
       "      <td>168</td>\n",
       "      <td>NaN</td>\n",
       "      <td>64391</td>\n",
       "      <td>20677</td>\n",
       "      <td>NaN</td>\n",
       "      <td>NaN</td>\n",
       "      <td>1</td>\n",
       "      <td>0</td>\n",
       "      <td>0</td>\n",
       "    </tr>\n",
       "    <tr>\n",
       "      <th>3</th>\n",
       "      <td>64391</td>\n",
       "      <td>64396</td>\n",
       "      <td>New Conversation Flow</td>\n",
       "      <td>holdout</td>\n",
       "      <td>2018-06-05 16:46:39.542467</td>\n",
       "      <td>64391</td>\n",
       "      <td>4</td>\n",
       "      <td>2018-07-13</td>\n",
       "      <td>2018-07-20</td>\n",
       "      <td>7</td>\n",
       "      <td>2018-07-02 09:12:22.275923</td>\n",
       "      <td>490</td>\n",
       "      <td>NaN</td>\n",
       "      <td>64391</td>\n",
       "      <td>3847</td>\n",
       "      <td>NaN</td>\n",
       "      <td>NaN</td>\n",
       "      <td>1</td>\n",
       "      <td>0</td>\n",
       "      <td>0</td>\n",
       "    </tr>\n",
       "    <tr>\n",
       "      <th>4</th>\n",
       "      <td>64389</td>\n",
       "      <td>64397</td>\n",
       "      <td>New Conversation Flow</td>\n",
       "      <td>variant</td>\n",
       "      <td>2018-06-21 16:02:48.694725</td>\n",
       "      <td>64389</td>\n",
       "      <td>5</td>\n",
       "      <td>2018-07-02</td>\n",
       "      <td>2018-07-07</td>\n",
       "      <td>5</td>\n",
       "      <td>2018-06-21 16:02:48.694725</td>\n",
       "      <td>140</td>\n",
       "      <td>NaN</td>\n",
       "      <td>64389</td>\n",
       "      <td>9982</td>\n",
       "      <td>NaN</td>\n",
       "      <td>NaN</td>\n",
       "      <td>1</td>\n",
       "      <td>1</td>\n",
       "      <td>0</td>\n",
       "    </tr>\n",
       "  </tbody>\n",
       "</table>\n",
       "</div>"
      ],
      "text/plain": [
       "   key_0   id_x              test_name test_group                     added_x  \\\n",
       "0  64393  64394  New Conversation Flow    variant  2018-07-16 10:17:53.460035   \n",
       "1  64392  64395  New Conversation Flow    holdout  2018-08-01 10:20:48.626868   \n",
       "2  64391  64396  New Conversation Flow    holdout  2018-06-05 16:46:39.542467   \n",
       "3  64391  64396  New Conversation Flow    holdout  2018-06-05 16:46:39.542467   \n",
       "4  64389  64397  New Conversation Flow    variant  2018-06-21 16:02:48.694725   \n",
       "\n",
       "   person_id  id_y  start_date    end_date  units                     added_y  \\\n",
       "0      64393     1  2018-07-26  2018-07-31      5  2018-07-16 10:17:53.460035   \n",
       "1      64392     2  2018-08-10  2018-08-16      6  2018-08-01 10:20:48.626868   \n",
       "2      64391     3  2018-06-16  2018-06-19      3  2018-06-05 16:46:39.542467   \n",
       "3      64391     4  2018-07-13  2018-07-20      7  2018-07-02 09:12:22.275923   \n",
       "4      64389     5  2018-07-02  2018-07-07      5  2018-06-21 16:02:48.694725   \n",
       "\n",
       "   booking_total cancellation_fault  requester_id  service_id booked_at  \\\n",
       "0            120                NaN         64393        4646       NaN   \n",
       "1            132                NaN         64392       10126       NaN   \n",
       "2            168                NaN         64391       20677       NaN   \n",
       "3            490                NaN         64391        3847       NaN   \n",
       "4            140                NaN         64389        9982       NaN   \n",
       "\n",
       "  cancelled_at  not_booked  test_group_binary  booked  \n",
       "0          NaN           1                  1       0  \n",
       "1          NaN           1                  0       0  \n",
       "2          NaN           1                  0       0  \n",
       "3          NaN           1                  0       0  \n",
       "4          NaN           1                  1       0  "
      ]
     },
     "execution_count": 75,
     "metadata": {},
     "output_type": "execute_result"
    }
   ],
   "source": [
    "test_conversations.head() #check to make sure function is applied correctly"
   ]
  },
  {
   "cell_type": "markdown",
   "metadata": {},
   "source": [
    "### Group by person and then do t_test on the number of bookings for the two conditions.  Also, look at baseline bookings before the test was implemented.\n"
   ]
  },
  {
   "cell_type": "code",
   "execution_count": 84,
   "metadata": {},
   "outputs": [],
   "source": [
    "test_conversations['added_y'] = pd.to_datetime(test_conversations['added_y'])"
   ]
  },
  {
   "cell_type": "code",
   "execution_count": 86,
   "metadata": {},
   "outputs": [],
   "source": [
    "start_date = pd.to_datetime('2018-04-04')"
   ]
  },
  {
   "cell_type": "code",
   "execution_count": 88,
   "metadata": {},
   "outputs": [],
   "source": [
    "test_conv_filtered = test_conversations[test_conversations['added_y'] >= start_date]"
   ]
  },
  {
   "cell_type": "code",
   "execution_count": 91,
   "metadata": {},
   "outputs": [],
   "source": [
    "test_conv_baseline = test_conversations[test_conversations['added_y'] < start_date]"
   ]
  },
  {
   "cell_type": "code",
   "execution_count": 95,
   "metadata": {},
   "outputs": [],
   "source": [
    "sum_bookings = test_conv_filtered.groupby(['requester_id'])['booked'].sum() #aggregate by person"
   ]
  },
  {
   "cell_type": "code",
   "execution_count": 96,
   "metadata": {},
   "outputs": [],
   "source": [
    "sum_bookings = sum_bookings.reset_index()"
   ]
  },
  {
   "cell_type": "code",
   "execution_count": 97,
   "metadata": {},
   "outputs": [],
   "source": [
    "holdout_customers = test_conversations_holdout['requester_id']"
   ]
  },
  {
   "cell_type": "code",
   "execution_count": 98,
   "metadata": {},
   "outputs": [],
   "source": [
    "variant_customers = test_conversations_variant['requester_id']"
   ]
  },
  {
   "cell_type": "code",
   "execution_count": 99,
   "metadata": {},
   "outputs": [],
   "source": [
    "holdout_sum = sum_bookings[sum_bookings['requester_id'].isin(holdout_customers)]"
   ]
  },
  {
   "cell_type": "code",
   "execution_count": 100,
   "metadata": {},
   "outputs": [],
   "source": [
    "variant_sum = sum_bookings[sum_bookings['requester_id'].isin(variant_customers)]"
   ]
  },
  {
   "cell_type": "code",
   "execution_count": 101,
   "metadata": {},
   "outputs": [],
   "source": [
    "overlap = holdout_sum[holdout_sum['requester_id'].isin(variant_sum['requester_id'])]"
   ]
  },
  {
   "cell_type": "code",
   "execution_count": 102,
   "metadata": {},
   "outputs": [
    {
     "data": {
      "text/html": [
       "<div>\n",
       "<style scoped>\n",
       "    .dataframe tbody tr th:only-of-type {\n",
       "        vertical-align: middle;\n",
       "    }\n",
       "\n",
       "    .dataframe tbody tr th {\n",
       "        vertical-align: top;\n",
       "    }\n",
       "\n",
       "    .dataframe thead th {\n",
       "        text-align: right;\n",
       "    }\n",
       "</style>\n",
       "<table border=\"1\" class=\"dataframe\">\n",
       "  <thead>\n",
       "    <tr style=\"text-align: right;\">\n",
       "      <th></th>\n",
       "      <th>requester_id</th>\n",
       "      <th>booked</th>\n",
       "    </tr>\n",
       "  </thead>\n",
       "  <tbody>\n",
       "  </tbody>\n",
       "</table>\n",
       "</div>"
      ],
      "text/plain": [
       "Empty DataFrame\n",
       "Columns: [requester_id, booked]\n",
       "Index: []"
      ]
     },
     "execution_count": 102,
     "metadata": {},
     "output_type": "execute_result"
    }
   ],
   "source": [
    "overlap #check for no overlap between holdout and variant customers"
   ]
  },
  {
   "cell_type": "code",
   "execution_count": 103,
   "metadata": {},
   "outputs": [
    {
     "data": {
      "text/plain": [
       "0"
      ]
     },
     "execution_count": 103,
     "metadata": {},
     "output_type": "execute_result"
    }
   ],
   "source": [
    "sum(~webpage_test['person_id'].isin(test_conversations['requester_id']))#check to make sure we aren't missing any test\n",
    "                                                                        #cases"
   ]
  },
  {
   "cell_type": "code",
   "execution_count": 105,
   "metadata": {},
   "outputs": [
    {
     "data": {
      "text/plain": [
       "Ttest_indResult(statistic=-9.511803072029483, pvalue=2.0490136819410357e-21)"
      ]
     },
     "execution_count": 105,
     "metadata": {},
     "output_type": "execute_result"
    }
   ],
   "source": [
    "t_test = stats.ttest_ind(holdout_sum['booked'], variant_sum['booked'], equal_var=False)\n",
    "t_test"
   ]
  },
  {
   "cell_type": "code",
   "execution_count": 106,
   "metadata": {},
   "outputs": [
    {
     "data": {
      "text/plain": [
       "23383"
      ]
     },
     "execution_count": 106,
     "metadata": {},
     "output_type": "execute_result"
    }
   ],
   "source": [
    "len(holdout_sum) + len(variant_sum) -2 #degrees of freedom"
   ]
  },
  {
   "cell_type": "markdown",
   "metadata": {},
   "source": [
    "#### With t(23383) = -9.512 and p< 0.0001, reject the null of no difference in mean booking rates between variant and holdout groups."
   ]
  },
  {
   "cell_type": "code",
   "execution_count": 116,
   "metadata": {},
   "outputs": [
    {
     "data": {
      "image/png": "[encoded data removed]",
      "text/plain": [
       "<Figure size 720x576 with 1 Axes>"
      ]
     },
     "metadata": {},
     "output_type": "display_data"
    }
   ],
   "source": [
    "fig, ax = plt.subplots(figsize=(10,8))\n",
    "x = [1, 2]\n",
    "y = [holdout_sum['booked'].mean(), variant_sum['booked'].mean()]\n",
    "std_err = [holdout_sum['booked'].sem(), variant_sum['booked'].sem()]\n",
    "ax.bar(x, y, yerr=std_err)\n",
    "ax.set_xticklabels(['','','holdout','', '','','variant',''])\n",
    "ax.set_ylabel(\"Booking Rate\")\n",
    "_x=ax.set_title(\"Mean Booking Rate\")"
   ]
  },
  {
   "cell_type": "markdown",
   "metadata": {},
   "source": [
    "###  Look to see if baselines differ between the groups."
   ]
  },
  {
   "cell_type": "code",
   "execution_count": 118,
   "metadata": {},
   "outputs": [],
   "source": [
    "baseline_bookings = test_conv_baseline.groupby(['requester_id'])['booked'].sum()"
   ]
  },
  {
   "cell_type": "code",
   "execution_count": 122,
   "metadata": {},
   "outputs": [],
   "source": [
    "baseline_bookings = baseline_bookings.reset_index()"
   ]
  },
  {
   "cell_type": "code",
   "execution_count": 146,
   "metadata": {},
   "outputs": [
    {
     "data": {
      "text/plain": [
       "9112"
      ]
     },
     "execution_count": 146,
     "metadata": {},
     "output_type": "execute_result"
    }
   ],
   "source": [
    "len(baseline_bookings)"
   ]
  },
  {
   "cell_type": "code",
   "execution_count": 123,
   "metadata": {},
   "outputs": [],
   "source": [
    "holdout_baseline = baseline_bookings[baseline_bookings['requester_id'].isin(holdout_customers)]"
   ]
  },
  {
   "cell_type": "code",
   "execution_count": 126,
   "metadata": {},
   "outputs": [],
   "source": [
    "variant_baseline = baseline_bookings[baseline_bookings['requester_id'].isin(variant_customers)]"
   ]
  },
  {
   "cell_type": "code",
   "execution_count": 135,
   "metadata": {},
   "outputs": [
    {
     "data": {
      "text/plain": [
       "Ttest_indResult(statistic=-1.2231163837807353, pvalue=0.2213176176855464)"
      ]
     },
     "execution_count": 135,
     "metadata": {},
     "output_type": "execute_result"
    }
   ],
   "source": [
    "t_test_baseline = stats.ttest_ind(holdout_baseline['booked'], variant_baseline['booked'], equal_var=False)\n",
    "t_test_baseline"
   ]
  },
  {
   "cell_type": "code",
   "execution_count": 137,
   "metadata": {},
   "outputs": [
    {
     "data": {
      "image/png": "[encoded data removed]",
      "text/plain": [
       "<Figure size 720x576 with 1 Axes>"
      ]
     },
     "metadata": {},
     "output_type": "display_data"
    }
   ],
   "source": [
    "fig, ax = plt.subplots(figsize=(10,8))\n",
    "x = [1, 2]\n",
    "y = [holdout_baseline['booked'].mean(), variant_baseline['booked'].mean()]\n",
    "std_err = [holdout_baseline['booked'].sem(), variant_baseline['booked'].sem()]\n",
    "ax.bar(x, y, yerr=std_err)\n",
    "ax.set_xticklabels(['','','holdout','', '','','variant',''])\n",
    "ax.set_ylabel(\"Booking Rate\")\n",
    "_x=ax.set_title(\"Mean Booking Rate - Baseline\")"
   ]
  },
  {
   "cell_type": "code",
   "execution_count": null,
   "metadata": {},
   "outputs": [],
   "source": []
  },
  {
   "cell_type": "markdown",
   "metadata": {},
   "source": [
    "A t-test examining users that were later assigned to the variant and holdout groups prior to test assignment showed no significant difference in mean booking rates (t(9110), p-value = 0.22).  However, it is worth noting that the variant group's baseline booking rate was slightly higher than the holdout group.  These owners that were assigned to the variant group may have influenced the outcomes of the A/B test. It is reasonable to conjecture that, due to increased trust with the booking services at Rover, the users later assigned to the variant group were going to increase their booking rates at a higher rate than the holdout group regardless of changes in the UI platform.  It may be worth considering a crossover design where the holdout users are switched to the new design and the variant users back to the old platform to see if booking rate changes still persist.  "
   ]
  },
  {
   "cell_type": "markdown",
   "metadata": {},
   "source": [
    "Another possible issue with the study design is the exclusion of the providers from the UI changes.  It is possible that the providers could be more (or less) effective in their communication with the UI changes, and that would influence booking rates for the owners.  "
   ]
  },
  {
   "cell_type": "code",
   "execution_count": null,
   "metadata": {},
   "outputs": [],
   "source": []
  },
  {
   "cell_type": "code",
   "execution_count": null,
   "metadata": {},
   "outputs": [],
   "source": []
  },
  {
   "cell_type": "code",
   "execution_count": null,
   "metadata": {},
   "outputs": [],
   "source": []
  }
 ],
 "metadata": {
  "kernelspec": {
   "display_name": "Python 3",
   "language": "python",
   "name": "python3"
  },
  "language_info": {
   "codemirror_mode": {
    "name": "ipython",
    "version": 3
   },
   "file_extension": ".py",
   "mimetype": "text/x-python",
   "name": "python",
   "nbconvert_exporter": "python",
   "pygments_lexer": "ipython3",
   "version": "3.6.6"
  }
 },
 "nbformat": 4,
 "nbformat_minor": 2
}
