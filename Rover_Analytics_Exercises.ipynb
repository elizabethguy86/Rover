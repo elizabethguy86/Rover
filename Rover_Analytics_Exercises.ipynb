{
 "cells": [
  {
   "cell_type": "markdown",
   "metadata": {},
   "source": [
    "# Rover Analytics"
   ]
  },
  {
   "cell_type": "markdown",
   "metadata": {},
   "source": [
    "## Question 1:  For uncancelled bookings, are owners or providers more likely to leave a review?  Which tends to leave better reviews?"
   ]
  },
  {
   "cell_type": "code",
   "execution_count": 7,
   "metadata": {},
   "outputs": [],
   "source": [
    "import sqlite3\n",
    "from sqlite3 import Error\n",
    "import pandas as pd\n",
    "import matplotlib.pyplot as plt\n",
    "from scipy import stats\n",
    "import datetime as dt"
   ]
  },
  {
   "cell_type": "code",
   "execution_count": 2,
   "metadata": {},
   "outputs": [],
   "source": [
    "conversations = pd.read_csv('csvs/conversations_conversation.csv')"
   ]
  },
  {
   "cell_type": "code",
   "execution_count": 3,
   "metadata": {},
   "outputs": [],
   "source": [
    "conv_pets = pd.read_csv('csvs/conversations_conversation_pets.csv')"
   ]
  },
  {
   "cell_type": "code",
   "execution_count": 4,
   "metadata": {},
   "outputs": [],
   "source": [
    "conv_message = pd.read_csv('csvs/conversations_message.csv')"
   ]
  },
  {
   "cell_type": "code",
   "execution_count": 5,
   "metadata": {},
   "outputs": [],
   "source": [
    "conv_review = pd.read_csv('csvs/conversations_review.csv')"
   ]
  },
  {
   "cell_type": "code",
   "execution_count": 6,
   "metadata": {},
   "outputs": [],
   "source": [
    "services = pd.read_csv('csvs/services_service.csv')"
   ]
  },
  {
   "cell_type": "code",
   "execution_count": 202,
   "metadata": {},
   "outputs": [
    {
     "data": {
      "text/html": [
       "<div>\n",
       "<style scoped>\n",
       "    .dataframe tbody tr th:only-of-type {\n",
       "        vertical-align: middle;\n",
       "    }\n",
       "\n",
       "    .dataframe tbody tr th {\n",
       "        vertical-align: top;\n",
       "    }\n",
       "\n",
       "    .dataframe thead th {\n",
       "        text-align: right;\n",
       "    }\n",
       "</style>\n",
       "<table border=\"1\" class=\"dataframe\">\n",
       "  <thead>\n",
       "    <tr style=\"text-align: right;\">\n",
       "      <th></th>\n",
       "      <th>id</th>\n",
       "      <th>service_type</th>\n",
       "      <th>cancellation_policy</th>\n",
       "      <th>can_provide_oral_medication</th>\n",
       "      <th>can_provide_injected_medication</th>\n",
       "      <th>senior_dog_experience</th>\n",
       "      <th>special_needs_experience</th>\n",
       "      <th>takes_small_dogs</th>\n",
       "      <th>takes_medium_dogs</th>\n",
       "      <th>takes_large_dogs</th>\n",
       "      <th>takes_puppies</th>\n",
       "      <th>max_dogs</th>\n",
       "      <th>provider_id</th>\n",
       "      <th>fee</th>\n",
       "      <th>price</th>\n",
       "      <th>added</th>\n",
       "    </tr>\n",
       "  </thead>\n",
       "  <tbody>\n",
       "    <tr>\n",
       "      <th>0</th>\n",
       "      <td>1</td>\n",
       "      <td>boarding</td>\n",
       "      <td>strict</td>\n",
       "      <td>1</td>\n",
       "      <td>1</td>\n",
       "      <td>1</td>\n",
       "      <td>1</td>\n",
       "      <td>0</td>\n",
       "      <td>1</td>\n",
       "      <td>1</td>\n",
       "      <td>1</td>\n",
       "      <td>4</td>\n",
       "      <td>1</td>\n",
       "      <td>0.15</td>\n",
       "      <td>35</td>\n",
       "      <td>2016-08-02 14:59:15.095591</td>\n",
       "    </tr>\n",
       "  </tbody>\n",
       "</table>\n",
       "</div>"
      ],
      "text/plain": [
       "   id service_type cancellation_policy  can_provide_oral_medication  \\\n",
       "0   1     boarding              strict                            1   \n",
       "\n",
       "   can_provide_injected_medication  senior_dog_experience  \\\n",
       "0                                1                      1   \n",
       "\n",
       "   special_needs_experience  takes_small_dogs  takes_medium_dogs  \\\n",
       "0                         1                 0                  1   \n",
       "\n",
       "   takes_large_dogs  takes_puppies  max_dogs  provider_id   fee  price  \\\n",
       "0                 1              1         4            1  0.15     35   \n",
       "\n",
       "                        added  \n",
       "0  2016-08-02 14:59:15.095591  "
      ]
     },
     "execution_count": 202,
     "metadata": {},
     "output_type": "execute_result"
    }
   ],
   "source": [
    "services.head(1) #provider_id matches people_person"
   ]
  },
  {
   "cell_type": "code",
   "execution_count": 19,
   "metadata": {},
   "outputs": [
    {
     "data": {
      "text/html": [
       "<div>\n",
       "<style scoped>\n",
       "    .dataframe tbody tr th:only-of-type {\n",
       "        vertical-align: middle;\n",
       "    }\n",
       "\n",
       "    .dataframe tbody tr th {\n",
       "        vertical-align: top;\n",
       "    }\n",
       "\n",
       "    .dataframe thead th {\n",
       "        text-align: right;\n",
       "    }\n",
       "</style>\n",
       "<table border=\"1\" class=\"dataframe\">\n",
       "  <thead>\n",
       "    <tr style=\"text-align: right;\">\n",
       "      <th></th>\n",
       "      <th>id</th>\n",
       "      <th>start_date</th>\n",
       "      <th>end_date</th>\n",
       "      <th>units</th>\n",
       "      <th>added</th>\n",
       "      <th>booking_total</th>\n",
       "      <th>cancellation_fault</th>\n",
       "      <th>requester_id</th>\n",
       "      <th>service_id</th>\n",
       "      <th>booked_at</th>\n",
       "      <th>cancelled_at</th>\n",
       "    </tr>\n",
       "  </thead>\n",
       "  <tbody>\n",
       "    <tr>\n",
       "      <th>0</th>\n",
       "      <td>1</td>\n",
       "      <td>2018-07-26</td>\n",
       "      <td>2018-07-31</td>\n",
       "      <td>5</td>\n",
       "      <td>2018-07-16 10:17:53.460035</td>\n",
       "      <td>120</td>\n",
       "      <td>NaN</td>\n",
       "      <td>64393</td>\n",
       "      <td>4646</td>\n",
       "      <td>NaN</td>\n",
       "      <td>NaN</td>\n",
       "    </tr>\n",
       "  </tbody>\n",
       "</table>\n",
       "</div>"
      ],
      "text/plain": [
       "   id  start_date    end_date  units                       added  \\\n",
       "0   1  2018-07-26  2018-07-31      5  2018-07-16 10:17:53.460035   \n",
       "\n",
       "   booking_total cancellation_fault  requester_id  service_id booked_at  \\\n",
       "0            120                NaN         64393        4646       NaN   \n",
       "\n",
       "  cancelled_at  \n",
       "0          NaN  "
      ]
     },
     "execution_count": 19,
     "metadata": {},
     "output_type": "execute_result"
    }
   ],
   "source": [
    "conversations.head(1) #requester_id matches people_person #service_id matches services_service"
   ]
  },
  {
   "cell_type": "code",
   "execution_count": 78,
   "metadata": {},
   "outputs": [
    {
     "data": {
      "text/html": [
       "<div>\n",
       "<style scoped>\n",
       "    .dataframe tbody tr th:only-of-type {\n",
       "        vertical-align: middle;\n",
       "    }\n",
       "\n",
       "    .dataframe tbody tr th {\n",
       "        vertical-align: top;\n",
       "    }\n",
       "\n",
       "    .dataframe thead th {\n",
       "        text-align: right;\n",
       "    }\n",
       "</style>\n",
       "<table border=\"1\" class=\"dataframe\">\n",
       "  <thead>\n",
       "    <tr style=\"text-align: right;\">\n",
       "      <th></th>\n",
       "      <th>id</th>\n",
       "      <th>conversation_id</th>\n",
       "      <th>pet_id</th>\n",
       "    </tr>\n",
       "  </thead>\n",
       "  <tbody>\n",
       "    <tr>\n",
       "      <th>0</th>\n",
       "      <td>1</td>\n",
       "      <td>1</td>\n",
       "      <td>77730</td>\n",
       "    </tr>\n",
       "    <tr>\n",
       "      <th>1</th>\n",
       "      <td>2</td>\n",
       "      <td>2</td>\n",
       "      <td>77729</td>\n",
       "    </tr>\n",
       "    <tr>\n",
       "      <th>2</th>\n",
       "      <td>3</td>\n",
       "      <td>3</td>\n",
       "      <td>77728</td>\n",
       "    </tr>\n",
       "    <tr>\n",
       "      <th>3</th>\n",
       "      <td>4</td>\n",
       "      <td>3</td>\n",
       "      <td>77727</td>\n",
       "    </tr>\n",
       "    <tr>\n",
       "      <th>4</th>\n",
       "      <td>5</td>\n",
       "      <td>4</td>\n",
       "      <td>77728</td>\n",
       "    </tr>\n",
       "    <tr>\n",
       "      <th>5</th>\n",
       "      <td>6</td>\n",
       "      <td>4</td>\n",
       "      <td>77727</td>\n",
       "    </tr>\n",
       "    <tr>\n",
       "      <th>6</th>\n",
       "      <td>7</td>\n",
       "      <td>5</td>\n",
       "      <td>77725</td>\n",
       "    </tr>\n",
       "    <tr>\n",
       "      <th>7</th>\n",
       "      <td>8</td>\n",
       "      <td>6</td>\n",
       "      <td>77724</td>\n",
       "    </tr>\n",
       "    <tr>\n",
       "      <th>8</th>\n",
       "      <td>9</td>\n",
       "      <td>7</td>\n",
       "      <td>77721</td>\n",
       "    </tr>\n",
       "    <tr>\n",
       "      <th>9</th>\n",
       "      <td>10</td>\n",
       "      <td>8</td>\n",
       "      <td>77720</td>\n",
       "    </tr>\n",
       "  </tbody>\n",
       "</table>\n",
       "</div>"
      ],
      "text/plain": [
       "   id  conversation_id  pet_id\n",
       "0   1                1   77730\n",
       "1   2                2   77729\n",
       "2   3                3   77728\n",
       "3   4                3   77727\n",
       "4   5                4   77728\n",
       "5   6                4   77727\n",
       "6   7                5   77725\n",
       "7   8                6   77724\n",
       "8   9                7   77721\n",
       "9  10                8   77720"
      ]
     },
     "execution_count": 78,
     "metadata": {},
     "output_type": "execute_result"
    }
   ],
   "source": [
    "conv_pets.head(10) #conv_id goes to conversation_conversation booking id"
   ]
  },
  {
   "cell_type": "code",
   "execution_count": 79,
   "metadata": {},
   "outputs": [
    {
     "data": {
      "text/html": [
       "<div>\n",
       "<style scoped>\n",
       "    .dataframe tbody tr th:only-of-type {\n",
       "        vertical-align: middle;\n",
       "    }\n",
       "\n",
       "    .dataframe tbody tr th {\n",
       "        vertical-align: top;\n",
       "    }\n",
       "\n",
       "    .dataframe thead th {\n",
       "        text-align: right;\n",
       "    }\n",
       "</style>\n",
       "<table border=\"1\" class=\"dataframe\">\n",
       "  <thead>\n",
       "    <tr style=\"text-align: right;\">\n",
       "      <th></th>\n",
       "      <th>id</th>\n",
       "      <th>sent</th>\n",
       "      <th>content</th>\n",
       "      <th>conversation_id</th>\n",
       "      <th>sender_id</th>\n",
       "    </tr>\n",
       "  </thead>\n",
       "  <tbody>\n",
       "    <tr>\n",
       "      <th>0</th>\n",
       "      <td>1</td>\n",
       "      <td>2018-07-16 10:17:53.460035</td>\n",
       "      <td>Massa class.</td>\n",
       "      <td>1</td>\n",
       "      <td>64393</td>\n",
       "    </tr>\n",
       "    <tr>\n",
       "      <th>1</th>\n",
       "      <td>2</td>\n",
       "      <td>2018-07-28 16:53:53.927200</td>\n",
       "      <td>Porta lorem ornare condimentum.</td>\n",
       "      <td>1</td>\n",
       "      <td>2709</td>\n",
       "    </tr>\n",
       "    <tr>\n",
       "      <th>2</th>\n",
       "      <td>3</td>\n",
       "      <td>2018-07-16 23:55:22.904038</td>\n",
       "      <td>Neque curae rutrum elit conubia metus in.</td>\n",
       "      <td>1</td>\n",
       "      <td>2709</td>\n",
       "    </tr>\n",
       "    <tr>\n",
       "      <th>3</th>\n",
       "      <td>4</td>\n",
       "      <td>2018-07-23 10:05:49.829926</td>\n",
       "      <td>Donec etiam gravida luctus tellus phasellus ri...</td>\n",
       "      <td>1</td>\n",
       "      <td>2709</td>\n",
       "    </tr>\n",
       "    <tr>\n",
       "      <th>4</th>\n",
       "      <td>5</td>\n",
       "      <td>2018-08-01 10:20:48.626868</td>\n",
       "      <td>Risus class dui leo sem dui sed sollicitudin.</td>\n",
       "      <td>2</td>\n",
       "      <td>64392</td>\n",
       "    </tr>\n",
       "    <tr>\n",
       "      <th>5</th>\n",
       "      <td>6</td>\n",
       "      <td>2018-08-04 06:30:51.768397</td>\n",
       "      <td>Netus lacus.</td>\n",
       "      <td>2</td>\n",
       "      <td>64392</td>\n",
       "    </tr>\n",
       "    <tr>\n",
       "      <th>6</th>\n",
       "      <td>7</td>\n",
       "      <td>2018-08-04 15:23:40.023422</td>\n",
       "      <td>Velit augue accumsan amet orci parturient quis...</td>\n",
       "      <td>2</td>\n",
       "      <td>5927</td>\n",
       "    </tr>\n",
       "    <tr>\n",
       "      <th>7</th>\n",
       "      <td>8</td>\n",
       "      <td>2018-06-05 16:46:39.542467</td>\n",
       "      <td>Fames proin eros phasellus in id lectus et sed.</td>\n",
       "      <td>3</td>\n",
       "      <td>64391</td>\n",
       "    </tr>\n",
       "    <tr>\n",
       "      <th>8</th>\n",
       "      <td>9</td>\n",
       "      <td>2018-06-12 15:42:24.700658</td>\n",
       "      <td>Augue netus.</td>\n",
       "      <td>3</td>\n",
       "      <td>12177</td>\n",
       "    </tr>\n",
       "    <tr>\n",
       "      <th>9</th>\n",
       "      <td>10</td>\n",
       "      <td>2018-06-07 04:54:57.047007</td>\n",
       "      <td>Velit augue scelerisque vehicula proin.</td>\n",
       "      <td>3</td>\n",
       "      <td>12177</td>\n",
       "    </tr>\n",
       "  </tbody>\n",
       "</table>\n",
       "</div>"
      ],
      "text/plain": [
       "   id                        sent  \\\n",
       "0   1  2018-07-16 10:17:53.460035   \n",
       "1   2  2018-07-28 16:53:53.927200   \n",
       "2   3  2018-07-16 23:55:22.904038   \n",
       "3   4  2018-07-23 10:05:49.829926   \n",
       "4   5  2018-08-01 10:20:48.626868   \n",
       "5   6  2018-08-04 06:30:51.768397   \n",
       "6   7  2018-08-04 15:23:40.023422   \n",
       "7   8  2018-06-05 16:46:39.542467   \n",
       "8   9  2018-06-12 15:42:24.700658   \n",
       "9  10  2018-06-07 04:54:57.047007   \n",
       "\n",
       "                                             content  conversation_id  \\\n",
       "0                                       Massa class.                1   \n",
       "1                    Porta lorem ornare condimentum.                1   \n",
       "2          Neque curae rutrum elit conubia metus in.                1   \n",
       "3  Donec etiam gravida luctus tellus phasellus ri...                1   \n",
       "4      Risus class dui leo sem dui sed sollicitudin.                2   \n",
       "5                                       Netus lacus.                2   \n",
       "6  Velit augue accumsan amet orci parturient quis...                2   \n",
       "7    Fames proin eros phasellus in id lectus et sed.                3   \n",
       "8                                       Augue netus.                3   \n",
       "9            Velit augue scelerisque vehicula proin.                3   \n",
       "\n",
       "   sender_id  \n",
       "0      64393  \n",
       "1       2709  \n",
       "2       2709  \n",
       "3       2709  \n",
       "4      64392  \n",
       "5      64392  \n",
       "6       5927  \n",
       "7      64391  \n",
       "8      12177  \n",
       "9      12177  "
      ]
     },
     "execution_count": 79,
     "metadata": {},
     "output_type": "execute_result"
    }
   ],
   "source": [
    "conv_message.head(10)  #conversation_id matches with conversation_conversation id\n"
   ]
  },
  {
   "cell_type": "code",
   "execution_count": 236,
   "metadata": {},
   "outputs": [],
   "source": [
    "message_number = conv_message['conversation_id'].value_counts() \n",
    "#get the number of messages for each conversation_conversation id"
   ]
  },
  {
   "cell_type": "code",
   "execution_count": 281,
   "metadata": {},
   "outputs": [
    {
     "data": {
      "text/html": [
       "<div>\n",
       "<style scoped>\n",
       "    .dataframe tbody tr th:only-of-type {\n",
       "        vertical-align: middle;\n",
       "    }\n",
       "\n",
       "    .dataframe tbody tr th {\n",
       "        vertical-align: top;\n",
       "    }\n",
       "\n",
       "    .dataframe thead th {\n",
       "        text-align: right;\n",
       "    }\n",
       "</style>\n",
       "<table border=\"1\" class=\"dataframe\">\n",
       "  <thead>\n",
       "    <tr style=\"text-align: right;\">\n",
       "      <th></th>\n",
       "      <th>conversation_id</th>\n",
       "      <th>conv_counts</th>\n",
       "    </tr>\n",
       "  </thead>\n",
       "  <tbody>\n",
       "    <tr>\n",
       "      <th>0</th>\n",
       "      <td>1</td>\n",
       "      <td>4</td>\n",
       "    </tr>\n",
       "    <tr>\n",
       "      <th>1</th>\n",
       "      <td>2</td>\n",
       "      <td>3</td>\n",
       "    </tr>\n",
       "    <tr>\n",
       "      <th>2</th>\n",
       "      <td>3</td>\n",
       "      <td>3</td>\n",
       "    </tr>\n",
       "    <tr>\n",
       "      <th>3</th>\n",
       "      <td>4</td>\n",
       "      <td>6</td>\n",
       "    </tr>\n",
       "    <tr>\n",
       "      <th>4</th>\n",
       "      <td>5</td>\n",
       "      <td>5</td>\n",
       "    </tr>\n",
       "  </tbody>\n",
       "</table>\n",
       "</div>"
      ],
      "text/plain": [
       "   conversation_id  conv_counts\n",
       "0                1            4\n",
       "1                2            3\n",
       "2                3            3\n",
       "3                4            6\n",
       "4                5            5"
      ]
     },
     "execution_count": 281,
     "metadata": {},
     "output_type": "execute_result"
    }
   ],
   "source": [
    "message_sender = conv_message.groupby(['conversation_id']).size().reset_index()\n",
    "message_sender.columns = ['conversation_id', 'conv_counts']\n",
    "message_sender.head()"
   ]
  },
  {
   "cell_type": "code",
   "execution_count": 87,
   "metadata": {},
   "outputs": [
    {
     "data": {
      "text/html": [
       "<div>\n",
       "<style scoped>\n",
       "    .dataframe tbody tr th:only-of-type {\n",
       "        vertical-align: middle;\n",
       "    }\n",
       "\n",
       "    .dataframe tbody tr th {\n",
       "        vertical-align: top;\n",
       "    }\n",
       "\n",
       "    .dataframe thead th {\n",
       "        text-align: right;\n",
       "    }\n",
       "</style>\n",
       "<table border=\"1\" class=\"dataframe\">\n",
       "  <thead>\n",
       "    <tr style=\"text-align: right;\">\n",
       "      <th></th>\n",
       "      <th>id</th>\n",
       "      <th>content</th>\n",
       "      <th>stars</th>\n",
       "      <th>conversation_id</th>\n",
       "      <th>reviewer_id</th>\n",
       "    </tr>\n",
       "  </thead>\n",
       "  <tbody>\n",
       "    <tr>\n",
       "      <th>0</th>\n",
       "      <td>1</td>\n",
       "      <td>Netus proin per duis dolor venenatis nam.</td>\n",
       "      <td>1</td>\n",
       "      <td>7</td>\n",
       "      <td>64386</td>\n",
       "    </tr>\n",
       "    <tr>\n",
       "      <th>1</th>\n",
       "      <td>2</td>\n",
       "      <td>Dolor proin donec phasellus ve suspendisse ac ...</td>\n",
       "      <td>5</td>\n",
       "      <td>9</td>\n",
       "      <td>64384</td>\n",
       "    </tr>\n",
       "    <tr>\n",
       "      <th>2</th>\n",
       "      <td>3</td>\n",
       "      <td>Proin ipsum urna nisl egestas justo class a ar...</td>\n",
       "      <td>5</td>\n",
       "      <td>11</td>\n",
       "      <td>64382</td>\n",
       "    </tr>\n",
       "    <tr>\n",
       "      <th>3</th>\n",
       "      <td>4</td>\n",
       "      <td>Porta velit lectus varius donec tellus sollici...</td>\n",
       "      <td>1</td>\n",
       "      <td>13</td>\n",
       "      <td>64381</td>\n",
       "    </tr>\n",
       "    <tr>\n",
       "      <th>4</th>\n",
       "      <td>5</td>\n",
       "      <td>Dolor felis.</td>\n",
       "      <td>2</td>\n",
       "      <td>15</td>\n",
       "      <td>64379</td>\n",
       "    </tr>\n",
       "    <tr>\n",
       "      <th>5</th>\n",
       "      <td>6</td>\n",
       "      <td>Risus justo risus blandit iaculis.</td>\n",
       "      <td>5</td>\n",
       "      <td>19</td>\n",
       "      <td>64373</td>\n",
       "    </tr>\n",
       "    <tr>\n",
       "      <th>6</th>\n",
       "      <td>7</td>\n",
       "      <td>Porta proin ridiculus vestibulum gravida orci ...</td>\n",
       "      <td>5</td>\n",
       "      <td>19</td>\n",
       "      <td>11942</td>\n",
       "    </tr>\n",
       "    <tr>\n",
       "      <th>7</th>\n",
       "      <td>8</td>\n",
       "      <td>Metus ipsum.</td>\n",
       "      <td>5</td>\n",
       "      <td>25</td>\n",
       "      <td>64366</td>\n",
       "    </tr>\n",
       "    <tr>\n",
       "      <th>8</th>\n",
       "      <td>9</td>\n",
       "      <td>Dolor netus nec.</td>\n",
       "      <td>2</td>\n",
       "      <td>26</td>\n",
       "      <td>64365</td>\n",
       "    </tr>\n",
       "    <tr>\n",
       "      <th>9</th>\n",
       "      <td>10</td>\n",
       "      <td>Fusce class non primis duis eros potenti ac.</td>\n",
       "      <td>3</td>\n",
       "      <td>26</td>\n",
       "      <td>12441</td>\n",
       "    </tr>\n",
       "  </tbody>\n",
       "</table>\n",
       "</div>"
      ],
      "text/plain": [
       "   id                                            content  stars  \\\n",
       "0   1          Netus proin per duis dolor venenatis nam.      1   \n",
       "1   2  Dolor proin donec phasellus ve suspendisse ac ...      5   \n",
       "2   3  Proin ipsum urna nisl egestas justo class a ar...      5   \n",
       "3   4  Porta velit lectus varius donec tellus sollici...      1   \n",
       "4   5                                       Dolor felis.      2   \n",
       "5   6                 Risus justo risus blandit iaculis.      5   \n",
       "6   7  Porta proin ridiculus vestibulum gravida orci ...      5   \n",
       "7   8                                       Metus ipsum.      5   \n",
       "8   9                                   Dolor netus nec.      2   \n",
       "9  10       Fusce class non primis duis eros potenti ac.      3   \n",
       "\n",
       "   conversation_id  reviewer_id  \n",
       "0                7        64386  \n",
       "1                9        64384  \n",
       "2               11        64382  \n",
       "3               13        64381  \n",
       "4               15        64379  \n",
       "5               19        64373  \n",
       "6               19        11942  \n",
       "7               25        64366  \n",
       "8               26        64365  \n",
       "9               26        12441  "
      ]
     },
     "execution_count": 87,
     "metadata": {},
     "output_type": "execute_result"
    }
   ],
   "source": [
    "conv_review.head(10) #conversation_id matches to conversations_conversation. reviewer_id matches people_person"
   ]
  },
  {
   "cell_type": "code",
   "execution_count": 38,
   "metadata": {},
   "outputs": [],
   "source": [
    "conv_cancelled = conversations[(~conversations['booked_at'].isna()) & (~conversations['cancelled_at'].isna())]"
   ]
  },
  {
   "cell_type": "code",
   "execution_count": 39,
   "metadata": {},
   "outputs": [
    {
     "data": {
      "text/html": [
       "<div>\n",
       "<style scoped>\n",
       "    .dataframe tbody tr th:only-of-type {\n",
       "        vertical-align: middle;\n",
       "    }\n",
       "\n",
       "    .dataframe tbody tr th {\n",
       "        vertical-align: top;\n",
       "    }\n",
       "\n",
       "    .dataframe thead th {\n",
       "        text-align: right;\n",
       "    }\n",
       "</style>\n",
       "<table border=\"1\" class=\"dataframe\">\n",
       "  <thead>\n",
       "    <tr style=\"text-align: right;\">\n",
       "      <th></th>\n",
       "      <th>id</th>\n",
       "      <th>start_date</th>\n",
       "      <th>end_date</th>\n",
       "      <th>units</th>\n",
       "      <th>added</th>\n",
       "      <th>booking_total</th>\n",
       "      <th>cancellation_fault</th>\n",
       "      <th>requester_id</th>\n",
       "      <th>service_id</th>\n",
       "      <th>booked_at</th>\n",
       "      <th>cancelled_at</th>\n",
       "    </tr>\n",
       "  </thead>\n",
       "  <tbody>\n",
       "    <tr>\n",
       "      <th>17</th>\n",
       "      <td>18</td>\n",
       "      <td>2018-08-01</td>\n",
       "      <td>2018-08-07</td>\n",
       "      <td>6</td>\n",
       "      <td>2018-07-23 18:11:08.524151</td>\n",
       "      <td>288</td>\n",
       "      <td>requester</td>\n",
       "      <td>64376</td>\n",
       "      <td>18503</td>\n",
       "      <td>2018-07-28 02:24:41.829042</td>\n",
       "      <td>2018-07-31 09:09:27.965552</td>\n",
       "    </tr>\n",
       "    <tr>\n",
       "      <th>21</th>\n",
       "      <td>22</td>\n",
       "      <td>2018-06-14</td>\n",
       "      <td>2018-06-19</td>\n",
       "      <td>5</td>\n",
       "      <td>2018-06-05 06:44:01.985076</td>\n",
       "      <td>250</td>\n",
       "      <td>provider</td>\n",
       "      <td>64370</td>\n",
       "      <td>10339</td>\n",
       "      <td>2018-06-09 16:06:08.532196</td>\n",
       "      <td>2018-06-12 04:02:21.445353</td>\n",
       "    </tr>\n",
       "    <tr>\n",
       "      <th>54</th>\n",
       "      <td>55</td>\n",
       "      <td>2018-07-27</td>\n",
       "      <td>2018-07-29</td>\n",
       "      <td>2</td>\n",
       "      <td>2018-07-15 07:15:39.875647</td>\n",
       "      <td>92</td>\n",
       "      <td>provider</td>\n",
       "      <td>64336</td>\n",
       "      <td>364</td>\n",
       "      <td>2018-07-19 20:52:38.495156</td>\n",
       "      <td>2018-07-23 22:26:14.972345</td>\n",
       "    </tr>\n",
       "    <tr>\n",
       "      <th>62</th>\n",
       "      <td>63</td>\n",
       "      <td>2018-07-29</td>\n",
       "      <td>2018-07-30</td>\n",
       "      <td>1</td>\n",
       "      <td>2018-07-20 17:56:50.838856</td>\n",
       "      <td>19</td>\n",
       "      <td>requester</td>\n",
       "      <td>64328</td>\n",
       "      <td>2254</td>\n",
       "      <td>2018-07-25 06:59:53.310767</td>\n",
       "      <td>2018-07-27 01:58:12.079901</td>\n",
       "    </tr>\n",
       "    <tr>\n",
       "      <th>96</th>\n",
       "      <td>97</td>\n",
       "      <td>2018-06-27</td>\n",
       "      <td>2018-06-30</td>\n",
       "      <td>3</td>\n",
       "      <td>2018-06-19 07:48:41.185276</td>\n",
       "      <td>252</td>\n",
       "      <td>provider</td>\n",
       "      <td>64290</td>\n",
       "      <td>7880</td>\n",
       "      <td>2018-06-21 20:34:29.065315</td>\n",
       "      <td>2018-06-25 05:18:47.415560</td>\n",
       "    </tr>\n",
       "  </tbody>\n",
       "</table>\n",
       "</div>"
      ],
      "text/plain": [
       "    id  start_date    end_date  units                       added  \\\n",
       "17  18  2018-08-01  2018-08-07      6  2018-07-23 18:11:08.524151   \n",
       "21  22  2018-06-14  2018-06-19      5  2018-06-05 06:44:01.985076   \n",
       "54  55  2018-07-27  2018-07-29      2  2018-07-15 07:15:39.875647   \n",
       "62  63  2018-07-29  2018-07-30      1  2018-07-20 17:56:50.838856   \n",
       "96  97  2018-06-27  2018-06-30      3  2018-06-19 07:48:41.185276   \n",
       "\n",
       "    booking_total cancellation_fault  requester_id  service_id  \\\n",
       "17            288          requester         64376       18503   \n",
       "21            250           provider         64370       10339   \n",
       "54             92           provider         64336         364   \n",
       "62             19          requester         64328        2254   \n",
       "96            252           provider         64290        7880   \n",
       "\n",
       "                     booked_at                cancelled_at  \n",
       "17  2018-07-28 02:24:41.829042  2018-07-31 09:09:27.965552  \n",
       "21  2018-06-09 16:06:08.532196  2018-06-12 04:02:21.445353  \n",
       "54  2018-07-19 20:52:38.495156  2018-07-23 22:26:14.972345  \n",
       "62  2018-07-25 06:59:53.310767  2018-07-27 01:58:12.079901  \n",
       "96  2018-06-21 20:34:29.065315  2018-06-25 05:18:47.415560  "
      ]
     },
     "execution_count": 39,
     "metadata": {},
     "output_type": "execute_result"
    }
   ],
   "source": [
    "conv_cancelled.head()"
   ]
  },
  {
   "cell_type": "code",
   "execution_count": 40,
   "metadata": {},
   "outputs": [],
   "source": [
    "conv_not_cancelled = conversations[(~conversations['booked_at'].isna()) & (conversations['cancelled_at'].isna())]"
   ]
  },
  {
   "cell_type": "code",
   "execution_count": 47,
   "metadata": {},
   "outputs": [
    {
     "data": {
      "text/html": [
       "<div>\n",
       "<style scoped>\n",
       "    .dataframe tbody tr th:only-of-type {\n",
       "        vertical-align: middle;\n",
       "    }\n",
       "\n",
       "    .dataframe tbody tr th {\n",
       "        vertical-align: top;\n",
       "    }\n",
       "\n",
       "    .dataframe thead th {\n",
       "        text-align: right;\n",
       "    }\n",
       "</style>\n",
       "<table border=\"1\" class=\"dataframe\">\n",
       "  <thead>\n",
       "    <tr style=\"text-align: right;\">\n",
       "      <th></th>\n",
       "      <th>id</th>\n",
       "      <th>start_date</th>\n",
       "      <th>end_date</th>\n",
       "      <th>units</th>\n",
       "      <th>added</th>\n",
       "      <th>booking_total</th>\n",
       "      <th>cancellation_fault</th>\n",
       "      <th>requester_id</th>\n",
       "      <th>service_id</th>\n",
       "      <th>booked_at</th>\n",
       "      <th>cancelled_at</th>\n",
       "    </tr>\n",
       "  </thead>\n",
       "  <tbody>\n",
       "    <tr>\n",
       "      <th>5</th>\n",
       "      <td>6</td>\n",
       "      <td>2018-07-04</td>\n",
       "      <td>2018-07-07</td>\n",
       "      <td>3</td>\n",
       "      <td>2018-06-23 16:16:16.891344</td>\n",
       "      <td>78</td>\n",
       "      <td>NaN</td>\n",
       "      <td>64388</td>\n",
       "      <td>14772</td>\n",
       "      <td>2018-06-27 14:39:51.433544</td>\n",
       "      <td>NaN</td>\n",
       "    </tr>\n",
       "    <tr>\n",
       "      <th>6</th>\n",
       "      <td>7</td>\n",
       "      <td>2018-07-31</td>\n",
       "      <td>2018-08-04</td>\n",
       "      <td>4</td>\n",
       "      <td>2018-07-21 04:55:57.951572</td>\n",
       "      <td>100</td>\n",
       "      <td>NaN</td>\n",
       "      <td>64386</td>\n",
       "      <td>14783</td>\n",
       "      <td>2018-07-22 02:50:20.676664</td>\n",
       "      <td>NaN</td>\n",
       "    </tr>\n",
       "    <tr>\n",
       "      <th>8</th>\n",
       "      <td>9</td>\n",
       "      <td>2018-07-02</td>\n",
       "      <td>2018-07-03</td>\n",
       "      <td>1</td>\n",
       "      <td>2018-06-21 06:23:08.092389</td>\n",
       "      <td>23</td>\n",
       "      <td>NaN</td>\n",
       "      <td>64384</td>\n",
       "      <td>7656</td>\n",
       "      <td>2018-06-23 01:49:33.596667</td>\n",
       "      <td>NaN</td>\n",
       "    </tr>\n",
       "    <tr>\n",
       "      <th>10</th>\n",
       "      <td>11</td>\n",
       "      <td>2018-06-12</td>\n",
       "      <td>2018-06-18</td>\n",
       "      <td>6</td>\n",
       "      <td>2018-06-03 09:11:33.421951</td>\n",
       "      <td>300</td>\n",
       "      <td>NaN</td>\n",
       "      <td>64382</td>\n",
       "      <td>2512</td>\n",
       "      <td>2018-06-07 01:24:20.187356</td>\n",
       "      <td>NaN</td>\n",
       "    </tr>\n",
       "    <tr>\n",
       "      <th>12</th>\n",
       "      <td>13</td>\n",
       "      <td>2018-07-24</td>\n",
       "      <td>2018-07-27</td>\n",
       "      <td>3</td>\n",
       "      <td>2018-07-13 10:30:05.875588</td>\n",
       "      <td>126</td>\n",
       "      <td>NaN</td>\n",
       "      <td>64381</td>\n",
       "      <td>1634</td>\n",
       "      <td>2018-07-19 01:01:11.552880</td>\n",
       "      <td>NaN</td>\n",
       "    </tr>\n",
       "  </tbody>\n",
       "</table>\n",
       "</div>"
      ],
      "text/plain": [
       "    id  start_date    end_date  units                       added  \\\n",
       "5    6  2018-07-04  2018-07-07      3  2018-06-23 16:16:16.891344   \n",
       "6    7  2018-07-31  2018-08-04      4  2018-07-21 04:55:57.951572   \n",
       "8    9  2018-07-02  2018-07-03      1  2018-06-21 06:23:08.092389   \n",
       "10  11  2018-06-12  2018-06-18      6  2018-06-03 09:11:33.421951   \n",
       "12  13  2018-07-24  2018-07-27      3  2018-07-13 10:30:05.875588   \n",
       "\n",
       "    booking_total cancellation_fault  requester_id  service_id  \\\n",
       "5              78                NaN         64388       14772   \n",
       "6             100                NaN         64386       14783   \n",
       "8              23                NaN         64384        7656   \n",
       "10            300                NaN         64382        2512   \n",
       "12            126                NaN         64381        1634   \n",
       "\n",
       "                     booked_at cancelled_at  \n",
       "5   2018-06-27 14:39:51.433544          NaN  \n",
       "6   2018-07-22 02:50:20.676664          NaN  \n",
       "8   2018-06-23 01:49:33.596667          NaN  \n",
       "10  2018-06-07 01:24:20.187356          NaN  \n",
       "12  2018-07-19 01:01:11.552880          NaN  "
      ]
     },
     "execution_count": 47,
     "metadata": {},
     "output_type": "execute_result"
    }
   ],
   "source": [
    "conv_not_cancelled.head()"
   ]
  },
  {
   "cell_type": "code",
   "execution_count": 122,
   "metadata": {},
   "outputs": [
    {
     "data": {
      "text/html": [
       "<div>\n",
       "<style scoped>\n",
       "    .dataframe tbody tr th:only-of-type {\n",
       "        vertical-align: middle;\n",
       "    }\n",
       "\n",
       "    .dataframe tbody tr th {\n",
       "        vertical-align: top;\n",
       "    }\n",
       "\n",
       "    .dataframe thead th {\n",
       "        text-align: right;\n",
       "    }\n",
       "</style>\n",
       "<table border=\"1\" class=\"dataframe\">\n",
       "  <thead>\n",
       "    <tr style=\"text-align: right;\">\n",
       "      <th></th>\n",
       "      <th>id</th>\n",
       "      <th>units</th>\n",
       "      <th>booking_total</th>\n",
       "      <th>requester_id</th>\n",
       "      <th>service_id</th>\n",
       "    </tr>\n",
       "  </thead>\n",
       "  <tbody>\n",
       "    <tr>\n",
       "      <th>count</th>\n",
       "      <td>46714.000000</td>\n",
       "      <td>46714.000000</td>\n",
       "      <td>46714.000000</td>\n",
       "      <td>46714.000000</td>\n",
       "      <td>46714.000000</td>\n",
       "    </tr>\n",
       "    <tr>\n",
       "      <th>mean</th>\n",
       "      <td>40074.750653</td>\n",
       "      <td>4.288907</td>\n",
       "      <td>183.031746</td>\n",
       "      <td>38058.799139</td>\n",
       "      <td>10484.822237</td>\n",
       "    </tr>\n",
       "    <tr>\n",
       "      <th>std</th>\n",
       "      <td>23155.210110</td>\n",
       "      <td>2.013765</td>\n",
       "      <td>142.764792</td>\n",
       "      <td>14770.327846</td>\n",
       "      <td>6339.537338</td>\n",
       "    </tr>\n",
       "    <tr>\n",
       "      <th>min</th>\n",
       "      <td>1.000000</td>\n",
       "      <td>1.000000</td>\n",
       "      <td>16.000000</td>\n",
       "      <td>12601.000000</td>\n",
       "      <td>1.000000</td>\n",
       "    </tr>\n",
       "    <tr>\n",
       "      <th>25%</th>\n",
       "      <td>20086.500000</td>\n",
       "      <td>3.000000</td>\n",
       "      <td>88.000000</td>\n",
       "      <td>25273.250000</td>\n",
       "      <td>4959.000000</td>\n",
       "    </tr>\n",
       "    <tr>\n",
       "      <th>50%</th>\n",
       "      <td>40121.500000</td>\n",
       "      <td>4.000000</td>\n",
       "      <td>140.000000</td>\n",
       "      <td>37952.000000</td>\n",
       "      <td>10523.000000</td>\n",
       "    </tr>\n",
       "    <tr>\n",
       "      <th>75%</th>\n",
       "      <td>60132.500000</td>\n",
       "      <td>6.000000</td>\n",
       "      <td>240.000000</td>\n",
       "      <td>50792.000000</td>\n",
       "      <td>15980.750000</td>\n",
       "    </tr>\n",
       "    <tr>\n",
       "      <th>max</th>\n",
       "      <td>80180.000000</td>\n",
       "      <td>10.000000</td>\n",
       "      <td>1320.000000</td>\n",
       "      <td>64393.000000</td>\n",
       "      <td>21398.000000</td>\n",
       "    </tr>\n",
       "  </tbody>\n",
       "</table>\n",
       "</div>"
      ],
      "text/plain": [
       "                 id         units  booking_total  requester_id    service_id\n",
       "count  46714.000000  46714.000000   46714.000000  46714.000000  46714.000000\n",
       "mean   40074.750653      4.288907     183.031746  38058.799139  10484.822237\n",
       "std    23155.210110      2.013765     142.764792  14770.327846   6339.537338\n",
       "min        1.000000      1.000000      16.000000  12601.000000      1.000000\n",
       "25%    20086.500000      3.000000      88.000000  25273.250000   4959.000000\n",
       "50%    40121.500000      4.000000     140.000000  37952.000000  10523.000000\n",
       "75%    60132.500000      6.000000     240.000000  50792.000000  15980.750000\n",
       "max    80180.000000     10.000000    1320.000000  64393.000000  21398.000000"
      ]
     },
     "execution_count": 122,
     "metadata": {},
     "output_type": "execute_result"
    }
   ],
   "source": [
    "conv_uncertain = conversations[(conversations['booked_at'].isna()) & (conversations['cancelled_at'].isna())]\n",
    "conv_uncertain.describe()\n",
    "#no booking or cancellation data"
   ]
  },
  {
   "cell_type": "code",
   "execution_count": 45,
   "metadata": {},
   "outputs": [
    {
     "data": {
      "text/html": [
       "<div>\n",
       "<style scoped>\n",
       "    .dataframe tbody tr th:only-of-type {\n",
       "        vertical-align: middle;\n",
       "    }\n",
       "\n",
       "    .dataframe tbody tr th {\n",
       "        vertical-align: top;\n",
       "    }\n",
       "\n",
       "    .dataframe thead th {\n",
       "        text-align: right;\n",
       "    }\n",
       "</style>\n",
       "<table border=\"1\" class=\"dataframe\">\n",
       "  <thead>\n",
       "    <tr style=\"text-align: right;\">\n",
       "      <th></th>\n",
       "      <th>id</th>\n",
       "      <th>units</th>\n",
       "      <th>booking_total</th>\n",
       "      <th>requester_id</th>\n",
       "      <th>service_id</th>\n",
       "    </tr>\n",
       "  </thead>\n",
       "  <tbody>\n",
       "    <tr>\n",
       "      <th>count</th>\n",
       "      <td>3373.000000</td>\n",
       "      <td>3373.000000</td>\n",
       "      <td>3373.000000</td>\n",
       "      <td>3373.000000</td>\n",
       "      <td>3373.000000</td>\n",
       "    </tr>\n",
       "    <tr>\n",
       "      <th>mean</th>\n",
       "      <td>39924.240142</td>\n",
       "      <td>4.237771</td>\n",
       "      <td>178.520012</td>\n",
       "      <td>38154.245775</td>\n",
       "      <td>10628.567744</td>\n",
       "    </tr>\n",
       "    <tr>\n",
       "      <th>std</th>\n",
       "      <td>23275.850841</td>\n",
       "      <td>2.040174</td>\n",
       "      <td>146.717652</td>\n",
       "      <td>14847.116726</td>\n",
       "      <td>6357.673954</td>\n",
       "    </tr>\n",
       "    <tr>\n",
       "      <th>min</th>\n",
       "      <td>18.000000</td>\n",
       "      <td>1.000000</td>\n",
       "      <td>16.000000</td>\n",
       "      <td>12619.000000</td>\n",
       "      <td>8.000000</td>\n",
       "    </tr>\n",
       "    <tr>\n",
       "      <th>25%</th>\n",
       "      <td>18809.000000</td>\n",
       "      <td>3.000000</td>\n",
       "      <td>84.000000</td>\n",
       "      <td>25035.000000</td>\n",
       "      <td>5010.000000</td>\n",
       "    </tr>\n",
       "    <tr>\n",
       "      <th>50%</th>\n",
       "      <td>40084.000000</td>\n",
       "      <td>4.000000</td>\n",
       "      <td>135.000000</td>\n",
       "      <td>37979.000000</td>\n",
       "      <td>10709.000000</td>\n",
       "    </tr>\n",
       "    <tr>\n",
       "      <th>75%</th>\n",
       "      <td>60523.000000</td>\n",
       "      <td>6.000000</td>\n",
       "      <td>231.000000</td>\n",
       "      <td>51598.000000</td>\n",
       "      <td>16081.000000</td>\n",
       "    </tr>\n",
       "    <tr>\n",
       "      <th>max</th>\n",
       "      <td>80148.000000</td>\n",
       "      <td>10.000000</td>\n",
       "      <td>1200.000000</td>\n",
       "      <td>64376.000000</td>\n",
       "      <td>21374.000000</td>\n",
       "    </tr>\n",
       "  </tbody>\n",
       "</table>\n",
       "</div>"
      ],
      "text/plain": [
       "                 id        units  booking_total  requester_id    service_id\n",
       "count   3373.000000  3373.000000    3373.000000   3373.000000   3373.000000\n",
       "mean   39924.240142     4.237771     178.520012  38154.245775  10628.567744\n",
       "std    23275.850841     2.040174     146.717652  14847.116726   6357.673954\n",
       "min       18.000000     1.000000      16.000000  12619.000000      8.000000\n",
       "25%    18809.000000     3.000000      84.000000  25035.000000   5010.000000\n",
       "50%    40084.000000     4.000000     135.000000  37979.000000  10709.000000\n",
       "75%    60523.000000     6.000000     231.000000  51598.000000  16081.000000\n",
       "max    80148.000000    10.000000    1200.000000  64376.000000  21374.000000"
      ]
     },
     "execution_count": 45,
     "metadata": {},
     "output_type": "execute_result"
    }
   ],
   "source": [
    "conv_cancelled.describe()"
   ]
  },
  {
   "cell_type": "code",
   "execution_count": 46,
   "metadata": {},
   "outputs": [
    {
     "data": {
      "text/html": [
       "<div>\n",
       "<style scoped>\n",
       "    .dataframe tbody tr th:only-of-type {\n",
       "        vertical-align: middle;\n",
       "    }\n",
       "\n",
       "    .dataframe tbody tr th {\n",
       "        vertical-align: top;\n",
       "    }\n",
       "\n",
       "    .dataframe thead th {\n",
       "        text-align: right;\n",
       "    }\n",
       "</style>\n",
       "<table border=\"1\" class=\"dataframe\">\n",
       "  <thead>\n",
       "    <tr style=\"text-align: right;\">\n",
       "      <th></th>\n",
       "      <th>id</th>\n",
       "      <th>units</th>\n",
       "      <th>booking_total</th>\n",
       "      <th>requester_id</th>\n",
       "      <th>service_id</th>\n",
       "    </tr>\n",
       "  </thead>\n",
       "  <tbody>\n",
       "    <tr>\n",
       "      <th>count</th>\n",
       "      <td>30093.000000</td>\n",
       "      <td>30093.000000</td>\n",
       "      <td>30093.000000</td>\n",
       "      <td>30093.000000</td>\n",
       "      <td>30093.000000</td>\n",
       "    </tr>\n",
       "    <tr>\n",
       "      <th>mean</th>\n",
       "      <td>40133.583425</td>\n",
       "      <td>4.225634</td>\n",
       "      <td>177.388396</td>\n",
       "      <td>38021.374040</td>\n",
       "      <td>10545.431795</td>\n",
       "    </tr>\n",
       "    <tr>\n",
       "      <th>std</th>\n",
       "      <td>23118.056223</td>\n",
       "      <td>2.030408</td>\n",
       "      <td>142.670698</td>\n",
       "      <td>14747.352548</td>\n",
       "      <td>6322.089688</td>\n",
       "    </tr>\n",
       "    <tr>\n",
       "      <th>min</th>\n",
       "      <td>6.000000</td>\n",
       "      <td>1.000000</td>\n",
       "      <td>15.000000</td>\n",
       "      <td>12603.000000</td>\n",
       "      <td>1.000000</td>\n",
       "    </tr>\n",
       "    <tr>\n",
       "      <th>25%</th>\n",
       "      <td>20103.000000</td>\n",
       "      <td>3.000000</td>\n",
       "      <td>84.000000</td>\n",
       "      <td>25289.000000</td>\n",
       "      <td>5018.000000</td>\n",
       "    </tr>\n",
       "    <tr>\n",
       "      <th>50%</th>\n",
       "      <td>40049.000000</td>\n",
       "      <td>4.000000</td>\n",
       "      <td>136.000000</td>\n",
       "      <td>37996.000000</td>\n",
       "      <td>10567.000000</td>\n",
       "    </tr>\n",
       "    <tr>\n",
       "      <th>75%</th>\n",
       "      <td>60109.000000</td>\n",
       "      <td>6.000000</td>\n",
       "      <td>231.000000</td>\n",
       "      <td>50782.000000</td>\n",
       "      <td>16038.000000</td>\n",
       "    </tr>\n",
       "    <tr>\n",
       "      <th>max</th>\n",
       "      <td>80175.000000</td>\n",
       "      <td>10.000000</td>\n",
       "      <td>1260.000000</td>\n",
       "      <td>64388.000000</td>\n",
       "      <td>21398.000000</td>\n",
       "    </tr>\n",
       "  </tbody>\n",
       "</table>\n",
       "</div>"
      ],
      "text/plain": [
       "                 id         units  booking_total  requester_id    service_id\n",
       "count  30093.000000  30093.000000   30093.000000  30093.000000  30093.000000\n",
       "mean   40133.583425      4.225634     177.388396  38021.374040  10545.431795\n",
       "std    23118.056223      2.030408     142.670698  14747.352548   6322.089688\n",
       "min        6.000000      1.000000      15.000000  12603.000000      1.000000\n",
       "25%    20103.000000      3.000000      84.000000  25289.000000   5018.000000\n",
       "50%    40049.000000      4.000000     136.000000  37996.000000  10567.000000\n",
       "75%    60109.000000      6.000000     231.000000  50782.000000  16038.000000\n",
       "max    80175.000000     10.000000    1260.000000  64388.000000  21398.000000"
      ]
     },
     "execution_count": 46,
     "metadata": {},
     "output_type": "execute_result"
    }
   ],
   "source": [
    "conv_not_cancelled.describe()"
   ]
  },
  {
   "cell_type": "code",
   "execution_count": 54,
   "metadata": {},
   "outputs": [
    {
     "data": {
      "text/plain": [
       "0"
      ]
     },
     "execution_count": 54,
     "metadata": {},
     "output_type": "execute_result"
    }
   ],
   "source": [
    "owners = conv_not_cancelled['requester_id']\n",
    "sum(owners.isna()) #no missing values"
   ]
  },
  {
   "cell_type": "code",
   "execution_count": 55,
   "metadata": {},
   "outputs": [
    {
     "data": {
      "text/plain": [
       "0"
      ]
     },
     "execution_count": 55,
     "metadata": {},
     "output_type": "execute_result"
    }
   ],
   "source": [
    "provider_num = conv_not_cancelled['service_id']\n",
    "sum(provider_num.isna())"
   ]
  },
  {
   "cell_type": "markdown",
   "metadata": {},
   "source": [
    "### Join the bookings table with the reviews table where id = conversations_id"
   ]
  },
  {
   "cell_type": "code",
   "execution_count": 84,
   "metadata": {},
   "outputs": [],
   "source": [
    "request_reviews = pd.merge(left=conv_not_cancelled, right=conv_review, \n",
    "                  left_on=conv_not_cancelled['id'], right_on=conv_review['conversation_id'])"
   ]
  },
  {
   "cell_type": "code",
   "execution_count": 188,
   "metadata": {},
   "outputs": [
    {
     "data": {
      "text/html": [
       "<div>\n",
       "<style scoped>\n",
       "    .dataframe tbody tr th:only-of-type {\n",
       "        vertical-align: middle;\n",
       "    }\n",
       "\n",
       "    .dataframe tbody tr th {\n",
       "        vertical-align: top;\n",
       "    }\n",
       "\n",
       "    .dataframe thead th {\n",
       "        text-align: right;\n",
       "    }\n",
       "</style>\n",
       "<table border=\"1\" class=\"dataframe\">\n",
       "  <thead>\n",
       "    <tr style=\"text-align: right;\">\n",
       "      <th></th>\n",
       "      <th>key_0</th>\n",
       "      <th>id_x</th>\n",
       "      <th>start_date</th>\n",
       "      <th>end_date</th>\n",
       "      <th>units</th>\n",
       "      <th>added</th>\n",
       "      <th>booking_total</th>\n",
       "      <th>cancellation_fault</th>\n",
       "      <th>requester_id</th>\n",
       "      <th>service_id</th>\n",
       "      <th>booked_at</th>\n",
       "      <th>cancelled_at</th>\n",
       "      <th>id_y</th>\n",
       "      <th>content</th>\n",
       "      <th>stars</th>\n",
       "      <th>conversation_id</th>\n",
       "      <th>reviewer_id</th>\n",
       "    </tr>\n",
       "  </thead>\n",
       "  <tbody>\n",
       "    <tr>\n",
       "      <th>0</th>\n",
       "      <td>7</td>\n",
       "      <td>7</td>\n",
       "      <td>2018-07-31</td>\n",
       "      <td>2018-08-04</td>\n",
       "      <td>4</td>\n",
       "      <td>2018-07-21 04:55:57.951572</td>\n",
       "      <td>100</td>\n",
       "      <td>NaN</td>\n",
       "      <td>64386</td>\n",
       "      <td>14783</td>\n",
       "      <td>2018-07-22 02:50:20.676664</td>\n",
       "      <td>NaN</td>\n",
       "      <td>1</td>\n",
       "      <td>Netus proin per duis dolor venenatis nam.</td>\n",
       "      <td>1</td>\n",
       "      <td>7</td>\n",
       "      <td>64386</td>\n",
       "    </tr>\n",
       "  </tbody>\n",
       "</table>\n",
       "</div>"
      ],
      "text/plain": [
       "   key_0  id_x  start_date    end_date  units                       added  \\\n",
       "0      7     7  2018-07-31  2018-08-04      4  2018-07-21 04:55:57.951572   \n",
       "\n",
       "   booking_total cancellation_fault  requester_id  service_id  \\\n",
       "0            100                NaN         64386       14783   \n",
       "\n",
       "                    booked_at cancelled_at  id_y  \\\n",
       "0  2018-07-22 02:50:20.676664          NaN     1   \n",
       "\n",
       "                                     content  stars  conversation_id  \\\n",
       "0  Netus proin per duis dolor venenatis nam.      1                7   \n",
       "\n",
       "   reviewer_id  \n",
       "0        64386  "
      ]
     },
     "execution_count": 188,
     "metadata": {},
     "output_type": "execute_result"
    }
   ],
   "source": [
    "request_reviews.head(1)"
   ]
  },
  {
   "cell_type": "code",
   "execution_count": 67,
   "metadata": {},
   "outputs": [],
   "source": [
    "provider_not_cancelled = services[services['id'].isin(conv_not_cancelled['service_id'].values)]"
   ]
  },
  {
   "cell_type": "code",
   "execution_count": 74,
   "metadata": {},
   "outputs": [],
   "source": [
    "provider_ids = provider_ids['provider_id']\n"
   ]
  },
  {
   "cell_type": "code",
   "execution_count": 71,
   "metadata": {},
   "outputs": [],
   "source": [
    "provider_ids = provider_ids.unique()"
   ]
  },
  {
   "cell_type": "code",
   "execution_count": 77,
   "metadata": {},
   "outputs": [
    {
     "data": {
      "text/plain": [
       "8927"
      ]
     },
     "execution_count": 77,
     "metadata": {},
     "output_type": "execute_result"
    }
   ],
   "source": [
    "len(provider_ids)"
   ]
  },
  {
   "cell_type": "code",
   "execution_count": 80,
   "metadata": {},
   "outputs": [],
   "source": [
    "senders = conv_message[conv_message['conversation_id'].isin(conv_not_cancelled['id'])]"
   ]
  },
  {
   "cell_type": "code",
   "execution_count": 82,
   "metadata": {},
   "outputs": [],
   "source": [
    "senders_ids = senders['sender_id'].unique()"
   ]
  },
  {
   "cell_type": "code",
   "execution_count": null,
   "metadata": {},
   "outputs": [],
   "source": []
  },
  {
   "cell_type": "code",
   "execution_count": 90,
   "metadata": {},
   "outputs": [],
   "source": [
    "not_cancelled_reviews = conv_review[conv_review['conversation_id'].isin(conv_not_cancelled['id'])]"
   ]
  },
  {
   "cell_type": "code",
   "execution_count": 123,
   "metadata": {},
   "outputs": [
    {
     "data": {
      "text/html": [
       "<div>\n",
       "<style scoped>\n",
       "    .dataframe tbody tr th:only-of-type {\n",
       "        vertical-align: middle;\n",
       "    }\n",
       "\n",
       "    .dataframe tbody tr th {\n",
       "        vertical-align: top;\n",
       "    }\n",
       "\n",
       "    .dataframe thead th {\n",
       "        text-align: right;\n",
       "    }\n",
       "</style>\n",
       "<table border=\"1\" class=\"dataframe\">\n",
       "  <thead>\n",
       "    <tr style=\"text-align: right;\">\n",
       "      <th></th>\n",
       "      <th>id</th>\n",
       "      <th>content</th>\n",
       "      <th>stars</th>\n",
       "      <th>conversation_id</th>\n",
       "      <th>reviewer_id</th>\n",
       "    </tr>\n",
       "  </thead>\n",
       "  <tbody>\n",
       "  </tbody>\n",
       "</table>\n",
       "</div>"
      ],
      "text/plain": [
       "Empty DataFrame\n",
       "Columns: [id, content, stars, conversation_id, reviewer_id]\n",
       "Index: []"
      ]
     },
     "execution_count": 123,
     "metadata": {},
     "output_type": "execute_result"
    }
   ],
   "source": [
    "cancelled_reviews = conv_review[conv_review['conversation_id'].isin(conv_cancelled['id'])]\n",
    "cancelled_reviews #cancelled bookings don't have reviews"
   ]
  },
  {
   "cell_type": "code",
   "execution_count": 125,
   "metadata": {},
   "outputs": [
    {
     "data": {
      "text/html": [
       "<div>\n",
       "<style scoped>\n",
       "    .dataframe tbody tr th:only-of-type {\n",
       "        vertical-align: middle;\n",
       "    }\n",
       "\n",
       "    .dataframe tbody tr th {\n",
       "        vertical-align: top;\n",
       "    }\n",
       "\n",
       "    .dataframe thead th {\n",
       "        text-align: right;\n",
       "    }\n",
       "</style>\n",
       "<table border=\"1\" class=\"dataframe\">\n",
       "  <thead>\n",
       "    <tr style=\"text-align: right;\">\n",
       "      <th></th>\n",
       "      <th>id</th>\n",
       "      <th>content</th>\n",
       "      <th>stars</th>\n",
       "      <th>conversation_id</th>\n",
       "      <th>reviewer_id</th>\n",
       "    </tr>\n",
       "  </thead>\n",
       "  <tbody>\n",
       "  </tbody>\n",
       "</table>\n",
       "</div>"
      ],
      "text/plain": [
       "Empty DataFrame\n",
       "Columns: [id, content, stars, conversation_id, reviewer_id]\n",
       "Index: []"
      ]
     },
     "execution_count": 125,
     "metadata": {},
     "output_type": "execute_result"
    }
   ],
   "source": [
    "uncertain_reviews = conv_review[conv_review['conversation_id'].isin(conv_uncertain['id'])]\n",
    "uncertain_reviews #uncertain bookings don't have reviews"
   ]
  },
  {
   "cell_type": "code",
   "execution_count": 97,
   "metadata": {},
   "outputs": [
    {
     "data": {
      "text/plain": [
       "22499"
      ]
     },
     "execution_count": 97,
     "metadata": {},
     "output_type": "execute_result"
    }
   ],
   "source": [
    "requesters = not_cancelled_reviews[not_cancelled_reviews['reviewer_id'].isin(conv_not_cancelled['requester_id'])]\n",
    "len(requesters)"
   ]
  },
  {
   "cell_type": "code",
   "execution_count": 99,
   "metadata": {},
   "outputs": [
    {
     "data": {
      "text/plain": [
       "6062"
      ]
     },
     "execution_count": 99,
     "metadata": {},
     "output_type": "execute_result"
    }
   ],
   "source": [
    "providers = not_cancelled_reviews[~not_cancelled_reviews['reviewer_id'].isin(conv_not_cancelled['requester_id'])]\n",
    "len(providers)"
   ]
  },
  {
   "cell_type": "code",
   "execution_count": 95,
   "metadata": {},
   "outputs": [
    {
     "data": {
      "text/plain": [
       "0.7877525296733308"
      ]
     },
     "execution_count": 95,
     "metadata": {},
     "output_type": "execute_result"
    }
   ],
   "source": [
    "22499/28561  #78.8 percent of reviews from non-cancelled bookings are from the requester"
   ]
  },
  {
   "cell_type": "code",
   "execution_count": 194,
   "metadata": {},
   "outputs": [
    {
     "data": {
      "text/plain": [
       "5    3397\n",
       "4     693\n",
       "1     679\n",
       "3     649\n",
       "2     644\n",
       "Name: stars, dtype: int64"
      ]
     },
     "execution_count": 194,
     "metadata": {},
     "output_type": "execute_result"
    }
   ],
   "source": [
    "providers['stars'].value_counts() #counts for the number in each category"
   ]
  },
  {
   "cell_type": "code",
   "execution_count": 201,
   "metadata": {},
   "outputs": [
    {
     "data": {
      "text/plain": [
       "180.06647970966677"
      ]
     },
     "execution_count": 201,
     "metadata": {},
     "output_type": "execute_result"
    }
   ],
   "source": [
    "providers['booking_total'].mean()"
   ]
  },
  {
   "cell_type": "code",
   "execution_count": 117,
   "metadata": {},
   "outputs": [
    {
     "data": {
      "text/plain": [
       "Text(0.5,1,'Histogram of Provider ratings for Uncancelled Bookings')"
      ]
     },
     "execution_count": 117,
     "metadata": {},
     "output_type": "execute_result"
    },
    {
     "data": {
      "image/png": "[encoded data removed]",
      "text/plain": [
       "<Figure size 576x576 with 1 Axes>"
      ]
     },
     "metadata": {},
     "output_type": "display_data"
    }
   ],
   "source": [
    "fig, ax = plt.subplots(figsize = (8,8))\n",
    "providers['stars'].hist()\n",
    "ax.set_title(\"Histogram of Provider ratings for Uncancelled Bookings\")"
   ]
  },
  {
   "cell_type": "code",
   "execution_count": 195,
   "metadata": {},
   "outputs": [
    {
     "data": {
      "text/plain": [
       "5    17227\n",
       "4     1339\n",
       "1     1318\n",
       "3     1313\n",
       "2     1302\n",
       "Name: stars, dtype: int64"
      ]
     },
     "execution_count": 195,
     "metadata": {},
     "output_type": "execute_result"
    }
   ],
   "source": [
    "requesters['stars'].value_counts()"
   ]
  },
  {
   "cell_type": "code",
   "execution_count": 116,
   "metadata": {},
   "outputs": [
    {
     "data": {
      "text/plain": [
       "Text(0.5,1,'Histogram of Requester ratings for Uncancelled Bookings')"
      ]
     },
     "execution_count": 116,
     "metadata": {},
     "output_type": "execute_result"
    },
    {
     "data": {
      "image/png": "[encoded data removed]",
      "text/plain": [
       "<Figure size 576x576 with 1 Axes>"
      ]
     },
     "metadata": {},
     "output_type": "display_data"
    }
   ],
   "source": [
    "fig, ax = plt.subplots(figsize = (8,8))\n",
    "requesters['stars'].hist()\n",
    "ax.set_title(\"Histogram of Requester ratings for Uncancelled Bookings\")"
   ]
  },
  {
   "cell_type": "code",
   "execution_count": 186,
   "metadata": {},
   "outputs": [
    {
     "data": {
      "text/plain": [
       "3.9048168921148134"
      ]
     },
     "execution_count": 186,
     "metadata": {},
     "output_type": "execute_result"
    }
   ],
   "source": [
    "providers['stars'].mean() #average rating for providers"
   ]
  },
  {
   "cell_type": "code",
   "execution_count": 187,
   "metadata": {},
   "outputs": [
    {
     "data": {
      "text/plain": [
       "4.41584070403129"
      ]
     },
     "execution_count": 187,
     "metadata": {},
     "output_type": "execute_result"
    }
   ],
   "source": [
    "\n",
    "requesters['stars'].mean() #average rating for customers"
   ]
  },
  {
   "cell_type": "markdown",
   "metadata": {},
   "source": [
    "### Compute a Random Effects model of interaction ratings with Providers or Requesters as the predictor variable.\n",
    "### Control for multiple ratings within each user with a random effects linear model."
   ]
  },
  {
   "cell_type": "code",
   "execution_count": 144,
   "metadata": {},
   "outputs": [],
   "source": [
    "import statsmodels.api as statsm\n",
    "import statsmodels.formula.api as smf"
   ]
  },
  {
   "cell_type": "markdown",
   "metadata": {},
   "source": [
    "### Rater id (0 being requesters and 1 being providers) is predictive of rating levels.  Providers rate interactions\n",
    "### lower than requesters.  "
   ]
  },
  {
   "cell_type": "code",
   "execution_count": 164,
   "metadata": {},
   "outputs": [],
   "source": [
    "#merged table of not cancelled bookings in conversations_conversation table with conversations_review table\n",
    "request_reviews = pd.merge(left=conv_not_cancelled, right=conv_review, \n",
    "                  left_on=conv_not_cancelled['id'], right_on=conv_review['conversation_id'])"
   ]
  },
  {
   "cell_type": "code",
   "execution_count": 165,
   "metadata": {},
   "outputs": [
    {
     "data": {
      "text/plain": [
       "28561"
      ]
     },
     "execution_count": 165,
     "metadata": {},
     "output_type": "execute_result"
    }
   ],
   "source": [
    "len(request_reviews)"
   ]
  },
  {
   "cell_type": "code",
   "execution_count": 166,
   "metadata": {},
   "outputs": [],
   "source": [
    "#just the provider reviews\n",
    "providers = request_reviews[~request_reviews['reviewer_id'].isin(request_reviews['requester_id'])]"
   ]
  },
  {
   "cell_type": "code",
   "execution_count": 168,
   "metadata": {},
   "outputs": [],
   "source": [
    "#just the requester reviews\n",
    "requesters = request_reviews[request_reviews['reviewer_id'].isin(request_reviews['requester_id'])]"
   ]
  },
  {
   "cell_type": "code",
   "execution_count": 171,
   "metadata": {},
   "outputs": [
    {
     "name": "stderr",
     "output_type": "stream",
     "text": [
      "/anaconda3/lib/python3.6/site-packages/ipykernel_launcher.py:1: SettingWithCopyWarning: \n",
      "A value is trying to be set on a copy of a slice from a DataFrame.\n",
      "Try using .loc[row_indexer,col_indexer] = value instead\n",
      "\n",
      "See the caveats in the documentation: http://pandas.pydata.org/pandas-docs/stable/indexing.html#indexing-view-versus-copy\n",
      "  \"\"\"Entry point for launching an IPython kernel.\n",
      "/anaconda3/lib/python3.6/site-packages/ipykernel_launcher.py:2: SettingWithCopyWarning: \n",
      "A value is trying to be set on a copy of a slice from a DataFrame.\n",
      "Try using .loc[row_indexer,col_indexer] = value instead\n",
      "\n",
      "See the caveats in the documentation: http://pandas.pydata.org/pandas-docs/stable/indexing.html#indexing-view-versus-copy\n",
      "  \n"
     ]
    }
   ],
   "source": [
    "providers['id'] = 1\n",
    "requesters['id'] = 0"
   ]
  },
  {
   "cell_type": "code",
   "execution_count": 172,
   "metadata": {},
   "outputs": [],
   "source": [
    "ratings = pd.concat([providers, requesters])"
   ]
  },
  {
   "cell_type": "code",
   "execution_count": 174,
   "metadata": {},
   "outputs": [
    {
     "data": {
      "text/html": [
       "<div>\n",
       "<style scoped>\n",
       "    .dataframe tbody tr th:only-of-type {\n",
       "        vertical-align: middle;\n",
       "    }\n",
       "\n",
       "    .dataframe tbody tr th {\n",
       "        vertical-align: top;\n",
       "    }\n",
       "\n",
       "    .dataframe thead th {\n",
       "        text-align: right;\n",
       "    }\n",
       "</style>\n",
       "<table border=\"1\" class=\"dataframe\">\n",
       "  <thead>\n",
       "    <tr style=\"text-align: right;\">\n",
       "      <th></th>\n",
       "      <th>key_0</th>\n",
       "      <th>id_x</th>\n",
       "      <th>start_date</th>\n",
       "      <th>end_date</th>\n",
       "      <th>units</th>\n",
       "      <th>added</th>\n",
       "      <th>booking_total</th>\n",
       "      <th>cancellation_fault</th>\n",
       "      <th>requester_id</th>\n",
       "      <th>service_id</th>\n",
       "      <th>booked_at</th>\n",
       "      <th>cancelled_at</th>\n",
       "      <th>id_y</th>\n",
       "      <th>content</th>\n",
       "      <th>stars</th>\n",
       "      <th>conversation_id</th>\n",
       "      <th>reviewer_id</th>\n",
       "      <th>id</th>\n",
       "    </tr>\n",
       "  </thead>\n",
       "  <tbody>\n",
       "    <tr>\n",
       "      <th>6</th>\n",
       "      <td>19</td>\n",
       "      <td>19</td>\n",
       "      <td>2018-08-04</td>\n",
       "      <td>2018-08-05</td>\n",
       "      <td>1</td>\n",
       "      <td>2018-07-26 13:37:10.568236</td>\n",
       "      <td>29</td>\n",
       "      <td>NaN</td>\n",
       "      <td>64373</td>\n",
       "      <td>20273</td>\n",
       "      <td>2018-07-29 02:10:09.571217</td>\n",
       "      <td>NaN</td>\n",
       "      <td>7</td>\n",
       "      <td>Porta proin ridiculus vestibulum gravida orci ...</td>\n",
       "      <td>5</td>\n",
       "      <td>19</td>\n",
       "      <td>11942</td>\n",
       "      <td>1</td>\n",
       "    </tr>\n",
       "  </tbody>\n",
       "</table>\n",
       "</div>"
      ],
      "text/plain": [
       "   key_0  id_x  start_date    end_date  units                       added  \\\n",
       "6     19    19  2018-08-04  2018-08-05      1  2018-07-26 13:37:10.568236   \n",
       "\n",
       "   booking_total cancellation_fault  requester_id  service_id  \\\n",
       "6             29                NaN         64373       20273   \n",
       "\n",
       "                    booked_at cancelled_at  id_y  \\\n",
       "6  2018-07-29 02:10:09.571217          NaN     7   \n",
       "\n",
       "                                             content  stars  conversation_id  \\\n",
       "6  Porta proin ridiculus vestibulum gravida orci ...      5               19   \n",
       "\n",
       "   reviewer_id  id  \n",
       "6        11942   1  "
      ]
     },
     "execution_count": 174,
     "metadata": {},
     "output_type": "execute_result"
    }
   ],
   "source": [
    "ratings.head(1)"
   ]
  },
  {
   "cell_type": "code",
   "execution_count": 178,
   "metadata": {},
   "outputs": [],
   "source": [
    "rand_eff = smf.mixedlm('stars ~ id + units + booking_total + units*booking_total', \n",
    "                       ratings, groups=ratings['reviewer_id'])"
   ]
  },
  {
   "cell_type": "code",
   "execution_count": 179,
   "metadata": {},
   "outputs": [],
   "source": [
    "rand_eff_fit = rand_eff.fit()"
   ]
  },
  {
   "cell_type": "code",
   "execution_count": 180,
   "metadata": {},
   "outputs": [
    {
     "data": {
      "text/html": [
       "<table class=\"simpletable\">\n",
       "<tr>\n",
       "       <td>Model:</td>       <td>MixedLM</td> <td>Dependent Variable:</td>    <td>stars</td>   \n",
       "</tr>\n",
       "<tr>\n",
       "  <td>No. Observations:</td>  <td>28561</td>        <td>Method:</td>          <td>REML</td>    \n",
       "</tr>\n",
       "<tr>\n",
       "     <td>No. Groups:</td>     <td>22420</td>        <td>Scale:</td>          <td>1.5310</td>   \n",
       "</tr>\n",
       "<tr>\n",
       "  <td>Min. group size:</td>     <td>1</td>        <td>Likelihood:</td>     <td>-46852.5912</td>\n",
       "</tr>\n",
       "<tr>\n",
       "  <td>Max. group size:</td>     <td>7</td>        <td>Converged:</td>          <td>Yes</td>    \n",
       "</tr>\n",
       "<tr>\n",
       "  <td>Mean group size:</td>    <td>1.3</td>            <td></td>                <td></td>      \n",
       "</tr>\n",
       "</table>\n",
       "<table class=\"simpletable\">\n",
       "<tr>\n",
       "           <td></td>            <th>Coef.</th> <th>Std.Err.</th>    <th>z</th>    <th>P>|z|</th> <th>[0.025</th> <th>0.975]</th>\n",
       "</tr>\n",
       "<tr>\n",
       "  <th>Intercept</th>            <td>4.462</td>   <td>0.025</td>  <td>179.360</td> <td>0.000</td>  <td>4.413</td>  <td>4.511</td>\n",
       "</tr>\n",
       "<tr>\n",
       "  <th>id</th>                  <td>-0.510</td>   <td>0.018</td>  <td>-28.099</td> <td>0.000</td> <td>-0.546</td> <td>-0.475</td>\n",
       "</tr>\n",
       "<tr>\n",
       "  <th>units</th>               <td>-0.008</td>   <td>0.006</td>  <td>-1.386</td>  <td>0.166</td> <td>-0.019</td>  <td>0.003</td>\n",
       "</tr>\n",
       "<tr>\n",
       "  <th>booking_total</th>       <td>-0.000</td>   <td>0.000</td>  <td>-2.037</td>  <td>0.042</td> <td>-0.001</td> <td>-0.000</td>\n",
       "</tr>\n",
       "<tr>\n",
       "  <th>units:booking_total</th>  <td>0.000</td>   <td>0.000</td>   <td>2.311</td>  <td>0.021</td>  <td>0.000</td>  <td>0.000</td>\n",
       "</tr>\n",
       "<tr>\n",
       "  <th>Group Var</th>            <td>0.023</td>   <td>0.014</td>     <td></td>       <td></td>       <td></td>       <td></td>   \n",
       "</tr>\n",
       "</table>"
      ],
      "text/plain": [
       "<class 'statsmodels.iolib.summary2.Summary'>\n",
       "\"\"\"\n",
       "             Mixed Linear Model Regression Results\n",
       "===============================================================\n",
       "Model:              MixedLM   Dependent Variable:   stars      \n",
       "No. Observations:   28561     Method:               REML       \n",
       "No. Groups:         22420     Scale:                1.5310     \n",
       "Min. group size:    1         Likelihood:           -46852.5912\n",
       "Max. group size:    7         Converged:            Yes        \n",
       "Mean group size:    1.3                                        \n",
       "---------------------------------------------------------------\n",
       "                    Coef.  Std.Err.    z    P>|z| [0.025 0.975]\n",
       "---------------------------------------------------------------\n",
       "Intercept            4.462    0.025 179.360 0.000  4.413  4.511\n",
       "id                  -0.510    0.018 -28.099 0.000 -0.546 -0.475\n",
       "units               -0.008    0.006  -1.386 0.166 -0.019  0.003\n",
       "booking_total       -0.000    0.000  -2.037 0.042 -0.001 -0.000\n",
       "units:booking_total  0.000    0.000   2.311 0.021  0.000  0.000\n",
       "Group Var            0.023    0.014                            \n",
       "===============================================================\n",
       "\n",
       "\"\"\""
      ]
     },
     "execution_count": 180,
     "metadata": {},
     "output_type": "execute_result"
    }
   ],
   "source": [
    "rand_eff_fit.summary()"
   ]
  },
  {
   "cell_type": "code",
   "execution_count": 185,
   "metadata": {},
   "outputs": [],
   "source": [
    "rand_eff_2 = smf.mixedlm('stars ~ id + units + booking_total', \n",
    "                       ratings, groups=ratings['reviewer_id']) #no interaction term between units and booking"
   ]
  },
  {
   "cell_type": "code",
   "execution_count": 183,
   "metadata": {},
   "outputs": [],
   "source": [
    "rand_eff_2_fit = rand_eff_2.fit()"
   ]
  },
  {
   "cell_type": "code",
   "execution_count": 184,
   "metadata": {},
   "outputs": [
    {
     "data": {
      "text/html": [
       "<table class=\"simpletable\">\n",
       "<tr>\n",
       "       <td>Model:</td>       <td>MixedLM</td> <td>Dependent Variable:</td>    <td>stars</td>   \n",
       "</tr>\n",
       "<tr>\n",
       "  <td>No. Observations:</td>  <td>28561</td>        <td>Method:</td>          <td>REML</td>    \n",
       "</tr>\n",
       "<tr>\n",
       "     <td>No. Groups:</td>     <td>22420</td>        <td>Scale:</td>          <td>1.5312</td>   \n",
       "</tr>\n",
       "<tr>\n",
       "  <td>Min. group size:</td>     <td>1</td>        <td>Likelihood:</td>     <td>-46845.3740</td>\n",
       "</tr>\n",
       "<tr>\n",
       "  <td>Max. group size:</td>     <td>7</td>        <td>Converged:</td>          <td>Yes</td>    \n",
       "</tr>\n",
       "<tr>\n",
       "  <td>Mean group size:</td>    <td>1.3</td>            <td></td>                <td></td>      \n",
       "</tr>\n",
       "</table>\n",
       "<table class=\"simpletable\">\n",
       "<tr>\n",
       "        <td></td>         <th>Coef.</th> <th>Std.Err.</th>    <th>z</th>    <th>P>|z|</th> <th>[0.025</th> <th>0.975]</th>\n",
       "</tr>\n",
       "<tr>\n",
       "  <th>Intercept</th>      <td>4.421</td>   <td>0.018</td>  <td>251.584</td> <td>0.000</td>  <td>4.387</td>  <td>4.456</td>\n",
       "</tr>\n",
       "<tr>\n",
       "  <th>id</th>            <td>-0.510</td>   <td>0.018</td>  <td>-28.104</td> <td>0.000</td> <td>-0.546</td> <td>-0.475</td>\n",
       "</tr>\n",
       "<tr>\n",
       "  <th>units</th>         <td>-0.001</td>   <td>0.005</td>  <td>-0.296</td>  <td>0.767</td> <td>-0.011</td>  <td>0.008</td>\n",
       "</tr>\n",
       "<tr>\n",
       "  <th>booking_total</th>  <td>0.000</td>   <td>0.000</td>   <td>0.054</td>  <td>0.957</td> <td>-0.000</td>  <td>0.000</td>\n",
       "</tr>\n",
       "<tr>\n",
       "  <th>Group Var</th>      <td>0.023</td>   <td>0.014</td>     <td></td>       <td></td>       <td></td>       <td></td>   \n",
       "</tr>\n",
       "</table>"
      ],
      "text/plain": [
       "<class 'statsmodels.iolib.summary2.Summary'>\n",
       "\"\"\"\n",
       "          Mixed Linear Model Regression Results\n",
       "=========================================================\n",
       "Model:            MixedLM Dependent Variable: stars      \n",
       "No. Observations: 28561   Method:             REML       \n",
       "No. Groups:       22420   Scale:              1.5312     \n",
       "Min. group size:  1       Likelihood:         -46845.3740\n",
       "Max. group size:  7       Converged:          Yes        \n",
       "Mean group size:  1.3                                    \n",
       "---------------------------------------------------------\n",
       "              Coef.  Std.Err.    z    P>|z| [0.025 0.975]\n",
       "---------------------------------------------------------\n",
       "Intercept      4.421    0.018 251.584 0.000  4.387  4.456\n",
       "id            -0.510    0.018 -28.104 0.000 -0.546 -0.475\n",
       "units         -0.001    0.005  -0.296 0.767 -0.011  0.008\n",
       "booking_total  0.000    0.000   0.054 0.957 -0.000  0.000\n",
       "Group Var      0.023    0.014                            \n",
       "=========================================================\n",
       "\n",
       "\"\"\""
      ]
     },
     "execution_count": 184,
     "metadata": {},
     "output_type": "execute_result"
    }
   ],
   "source": [
    "rand_eff_2_fit.summary()"
   ]
  },
  {
   "cell_type": "markdown",
   "metadata": {},
   "source": [
    "### Summary:\n",
    "For all bookings that were not cancelled, both the owner and the provider were allowed to give reviews of the experience.  Of all the reviews, 78.78% of those reviews were from the owners. The remaining reviews were by the providers.  Both owners and providers tended to leave positive reviews on the likert scale rating (scale of 1 to 5, with 5 being the best).  Owners tended to rate their experience more positively than providers (means of 4.4156 and 3.9, respectively).  A regression model including provider/owner identification, booking total, booking units, and a booking units by booking total interaction indicated that rating was influenced by provider/owner identification, holding all the other predictors in the model constant, and controlling rating tendencies among reviewers with multiple reviews.  Thus, owners tend to rate their experiences more positively than providers, and booking total, number of units booked, or some combination of these two variables has little influence on the rating outcome.\n",
    "\n",
    "These data indicate that, overall, our owners and providers are satisfied with their services. Providers don't tend to rate as often as owners, and when they do their ratings are a bit more spread out over the scale.  This may be due to an underreporting bias among the providers.  Providers with satisfactory experiences may not be submitting reviews because of a lack of perceived consequence for their actions:  if they report a positive experience, will it affect their incomming business or their future bookings? If not, the extra time to submit a rating may not be deemed necessary.  Reporting negative experiences may be important for flagging dangerous situations, and thus the reporting at the lower levels may be more representative of the actual frequency of negative experiences.  Knowing the true frequency of negative to positive experiences is important for business, as negative experiences could lead to providers leaving the company, or jumping to a competitor, and we should calculate for those percentages accurately in our strategic planning. Thus, we should see what barriers exist that reduce rating frequencies among providers, and offer incentives to increase review reporting frequency.\n",
    "\n",
    "While owners on average had very positive experiences with their booking, it is worth noting that 2,620 of the owners rated the experience as a 1 or 2.  The average booking is around 180.00 USD. So, if owners do not return to us in the future, that is a loss of 471,600.00 USD, assuming they would have booked one more time.  Over the years, the actual loss is likely much higher as owners would presumably have multiple bookings each year.  Looking at ways we can retain the customers who provided low ratings, and reduce the number of 1s and 2s among our owner ratings, should be a priority.\n"
   ]
  },
  {
   "cell_type": "code",
   "execution_count": 293,
   "metadata": {},
   "outputs": [
    {
     "ename": "ValueError",
     "evalue": "cannot insert key_0, already exists",
     "output_type": "error",
     "traceback": [
      "\u001b[0;31m---------------------------------------------------------------------------\u001b[0m",
      "\u001b[0;31mValueError\u001b[0m                                Traceback (most recent call last)",
      "\u001b[0;32m<ipython-input-293-950c1c8462c7>\u001b[0m in \u001b[0;36m<module>\u001b[0;34m()\u001b[0m\n\u001b[1;32m      1\u001b[0m request_reviews_counts = pd.merge(left=ratings, right=message_counts, \n\u001b[0;32m----> 2\u001b[0;31m                                   left_on=ratings['conversation_id'], right_on=message_counts['conversation'])\n\u001b[0m",
      "\u001b[0;32m/anaconda3/lib/python3.6/site-packages/pandas/core/reshape/merge.py\u001b[0m in \u001b[0;36mmerge\u001b[0;34m(left, right, how, on, left_on, right_on, left_index, right_index, sort, suffixes, copy, indicator, validate)\u001b[0m\n\u001b[1;32m     60\u001b[0m                          \u001b[0mcopy\u001b[0m\u001b[0;34m=\u001b[0m\u001b[0mcopy\u001b[0m\u001b[0;34m,\u001b[0m \u001b[0mindicator\u001b[0m\u001b[0;34m=\u001b[0m\u001b[0mindicator\u001b[0m\u001b[0;34m,\u001b[0m\u001b[0;34m\u001b[0m\u001b[0m\n\u001b[1;32m     61\u001b[0m                          validate=validate)\n\u001b[0;32m---> 62\u001b[0;31m     \u001b[0;32mreturn\u001b[0m \u001b[0mop\u001b[0m\u001b[0;34m.\u001b[0m\u001b[0mget_result\u001b[0m\u001b[0;34m(\u001b[0m\u001b[0;34m)\u001b[0m\u001b[0;34m\u001b[0m\u001b[0m\n\u001b[0m\u001b[1;32m     63\u001b[0m \u001b[0;34m\u001b[0m\u001b[0m\n\u001b[1;32m     64\u001b[0m \u001b[0;34m\u001b[0m\u001b[0m\n",
      "\u001b[0;32m/anaconda3/lib/python3.6/site-packages/pandas/core/reshape/merge.py\u001b[0m in \u001b[0;36mget_result\u001b[0;34m(self)\u001b[0m\n\u001b[1;32m    588\u001b[0m             \u001b[0mresult\u001b[0m \u001b[0;34m=\u001b[0m \u001b[0mself\u001b[0m\u001b[0;34m.\u001b[0m\u001b[0m_indicator_post_merge\u001b[0m\u001b[0;34m(\u001b[0m\u001b[0mresult\u001b[0m\u001b[0;34m)\u001b[0m\u001b[0;34m\u001b[0m\u001b[0m\n\u001b[1;32m    589\u001b[0m \u001b[0;34m\u001b[0m\u001b[0m\n\u001b[0;32m--> 590\u001b[0;31m         \u001b[0mself\u001b[0m\u001b[0;34m.\u001b[0m\u001b[0m_maybe_add_join_keys\u001b[0m\u001b[0;34m(\u001b[0m\u001b[0mresult\u001b[0m\u001b[0;34m,\u001b[0m \u001b[0mleft_indexer\u001b[0m\u001b[0;34m,\u001b[0m \u001b[0mright_indexer\u001b[0m\u001b[0;34m)\u001b[0m\u001b[0;34m\u001b[0m\u001b[0m\n\u001b[0m\u001b[1;32m    591\u001b[0m \u001b[0;34m\u001b[0m\u001b[0m\n\u001b[1;32m    592\u001b[0m         \u001b[0mself\u001b[0m\u001b[0;34m.\u001b[0m\u001b[0m_maybe_restore_index_levels\u001b[0m\u001b[0;34m(\u001b[0m\u001b[0mresult\u001b[0m\u001b[0;34m)\u001b[0m\u001b[0;34m\u001b[0m\u001b[0m\n",
      "\u001b[0;32m/anaconda3/lib/python3.6/site-packages/pandas/core/reshape/merge.py\u001b[0m in \u001b[0;36m_maybe_add_join_keys\u001b[0;34m(self, result, left_indexer, right_indexer)\u001b[0m\n\u001b[1;32m    747\u001b[0m                         \u001b[0mresult\u001b[0m\u001b[0;34m.\u001b[0m\u001b[0mindex\u001b[0m \u001b[0;34m=\u001b[0m \u001b[0mIndex\u001b[0m\u001b[0;34m(\u001b[0m\u001b[0mkey_col\u001b[0m\u001b[0;34m,\u001b[0m \u001b[0mname\u001b[0m\u001b[0;34m=\u001b[0m\u001b[0mname\u001b[0m\u001b[0;34m)\u001b[0m\u001b[0;34m\u001b[0m\u001b[0m\n\u001b[1;32m    748\u001b[0m                 \u001b[0;32melse\u001b[0m\u001b[0;34m:\u001b[0m\u001b[0;34m\u001b[0m\u001b[0m\n\u001b[0;32m--> 749\u001b[0;31m                     \u001b[0mresult\u001b[0m\u001b[0;34m.\u001b[0m\u001b[0minsert\u001b[0m\u001b[0;34m(\u001b[0m\u001b[0mi\u001b[0m\u001b[0;34m,\u001b[0m \u001b[0mname\u001b[0m \u001b[0;32mor\u001b[0m \u001b[0;34m'key_{i}'\u001b[0m\u001b[0;34m.\u001b[0m\u001b[0mformat\u001b[0m\u001b[0;34m(\u001b[0m\u001b[0mi\u001b[0m\u001b[0;34m=\u001b[0m\u001b[0mi\u001b[0m\u001b[0;34m)\u001b[0m\u001b[0;34m,\u001b[0m \u001b[0mkey_col\u001b[0m\u001b[0;34m)\u001b[0m\u001b[0;34m\u001b[0m\u001b[0m\n\u001b[0m\u001b[1;32m    750\u001b[0m \u001b[0;34m\u001b[0m\u001b[0m\n\u001b[1;32m    751\u001b[0m     \u001b[0;32mdef\u001b[0m \u001b[0m_get_join_indexers\u001b[0m\u001b[0;34m(\u001b[0m\u001b[0mself\u001b[0m\u001b[0;34m)\u001b[0m\u001b[0;34m:\u001b[0m\u001b[0;34m\u001b[0m\u001b[0m\n",
      "\u001b[0;32m/anaconda3/lib/python3.6/site-packages/pandas/core/frame.py\u001b[0m in \u001b[0;36minsert\u001b[0;34m(self, loc, column, value, allow_duplicates)\u001b[0m\n\u001b[1;32m   3220\u001b[0m         \u001b[0mvalue\u001b[0m \u001b[0;34m=\u001b[0m \u001b[0mself\u001b[0m\u001b[0;34m.\u001b[0m\u001b[0m_sanitize_column\u001b[0m\u001b[0;34m(\u001b[0m\u001b[0mcolumn\u001b[0m\u001b[0;34m,\u001b[0m \u001b[0mvalue\u001b[0m\u001b[0;34m,\u001b[0m \u001b[0mbroadcast\u001b[0m\u001b[0;34m=\u001b[0m\u001b[0;32mFalse\u001b[0m\u001b[0;34m)\u001b[0m\u001b[0;34m\u001b[0m\u001b[0m\n\u001b[1;32m   3221\u001b[0m         self._data.insert(loc, column, value,\n\u001b[0;32m-> 3222\u001b[0;31m                           allow_duplicates=allow_duplicates)\n\u001b[0m\u001b[1;32m   3223\u001b[0m \u001b[0;34m\u001b[0m\u001b[0m\n\u001b[1;32m   3224\u001b[0m     \u001b[0;32mdef\u001b[0m \u001b[0massign\u001b[0m\u001b[0;34m(\u001b[0m\u001b[0mself\u001b[0m\u001b[0;34m,\u001b[0m \u001b[0;34m**\u001b[0m\u001b[0mkwargs\u001b[0m\u001b[0;34m)\u001b[0m\u001b[0;34m:\u001b[0m\u001b[0;34m\u001b[0m\u001b[0m\n",
      "\u001b[0;32m/anaconda3/lib/python3.6/site-packages/pandas/core/internals.py\u001b[0m in \u001b[0;36minsert\u001b[0;34m(self, loc, item, value, allow_duplicates)\u001b[0m\n\u001b[1;32m   4336\u001b[0m         \u001b[0;32mif\u001b[0m \u001b[0;32mnot\u001b[0m \u001b[0mallow_duplicates\u001b[0m \u001b[0;32mand\u001b[0m \u001b[0mitem\u001b[0m \u001b[0;32min\u001b[0m \u001b[0mself\u001b[0m\u001b[0;34m.\u001b[0m\u001b[0mitems\u001b[0m\u001b[0;34m:\u001b[0m\u001b[0;34m\u001b[0m\u001b[0m\n\u001b[1;32m   4337\u001b[0m             \u001b[0;31m# Should this be a different kind of error??\u001b[0m\u001b[0;34m\u001b[0m\u001b[0;34m\u001b[0m\u001b[0m\n\u001b[0;32m-> 4338\u001b[0;31m             \u001b[0;32mraise\u001b[0m \u001b[0mValueError\u001b[0m\u001b[0;34m(\u001b[0m\u001b[0;34m'cannot insert {}, already exists'\u001b[0m\u001b[0;34m.\u001b[0m\u001b[0mformat\u001b[0m\u001b[0;34m(\u001b[0m\u001b[0mitem\u001b[0m\u001b[0;34m)\u001b[0m\u001b[0;34m)\u001b[0m\u001b[0;34m\u001b[0m\u001b[0m\n\u001b[0m\u001b[1;32m   4339\u001b[0m \u001b[0;34m\u001b[0m\u001b[0m\n\u001b[1;32m   4340\u001b[0m         \u001b[0;32mif\u001b[0m \u001b[0;32mnot\u001b[0m \u001b[0misinstance\u001b[0m\u001b[0;34m(\u001b[0m\u001b[0mloc\u001b[0m\u001b[0;34m,\u001b[0m \u001b[0mint\u001b[0m\u001b[0;34m)\u001b[0m\u001b[0;34m:\u001b[0m\u001b[0;34m\u001b[0m\u001b[0m\n",
      "\u001b[0;31mValueError\u001b[0m: cannot insert key_0, already exists"
     ]
    }
   ],
   "source": [
    "request_reviews_counts = pd.merge(left=ratings, right=message_counts, \n",
    "                                  left_on=ratings['conversation_id'], right_on=message_counts['conversation'])"
   ]
  },
  {
   "cell_type": "code",
   "execution_count": 283,
   "metadata": {},
   "outputs": [],
   "source": [
    "message_counts = message_sender[message_sender['conversation_id'].isin(ratings['conversation_id'])]"
   ]
  },
  {
   "cell_type": "code",
   "execution_count": 286,
   "metadata": {},
   "outputs": [],
   "source": [
    "message_counts.columns = ['conversation', 'conv_counts']"
   ]
  },
  {
   "cell_type": "code",
   "execution_count": 292,
   "metadata": {},
   "outputs": [],
   "source": [
    "message_counts = message_counts.reset_index()"
   ]
  },
  {
   "cell_type": "code",
   "execution_count": null,
   "metadata": {},
   "outputs": [],
   "source": []
  }
 ],
 "metadata": {
  "kernelspec": {
   "display_name": "Python 3",
   "language": "python",
   "name": "python3"
  },
  "language_info": {
   "codemirror_mode": {
    "name": "ipython",
    "version": 3
   },
   "file_extension": ".py",
   "mimetype": "text/x-python",
   "name": "python",
   "nbconvert_exporter": "python",
   "pygments_lexer": "ipython3",
   "version": "3.6.6"
  }
 },
 "nbformat": 4,
 "nbformat_minor": 2
}
