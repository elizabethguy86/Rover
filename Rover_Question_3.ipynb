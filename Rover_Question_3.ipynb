{
 "cells": [
  {
   "cell_type": "markdown",
   "metadata": {},
   "source": [
    "# Rover Analytics"
   ]
  },
  {
   "cell_type": "markdown",
   "metadata": {},
   "source": [
    "## Question 3: Concerns about recent daily booking rates"
   ]
  },
  {
   "cell_type": "code",
   "execution_count": 5,
   "metadata": {},
   "outputs": [],
   "source": [
    "\n",
    "import pandas as pd\n",
    "import matplotlib.pyplot as plt\n",
    "from scipy import stats\n",
    "import datetime as dt\n",
    "import numpy as np"
   ]
  },
  {
   "cell_type": "code",
   "execution_count": 6,
   "metadata": {},
   "outputs": [],
   "source": [
    "conversations = pd.read_csv('csvs/conversations_conversation.csv')"
   ]
  },
  {
   "cell_type": "code",
   "execution_count": 7,
   "metadata": {},
   "outputs": [],
   "source": [
    "conversations['added'] = pd.to_datetime(conversations['added']) #convert added to a datetime object"
   ]
  },
  {
   "cell_type": "code",
   "execution_count": 9,
   "metadata": {},
   "outputs": [],
   "source": [
    "conversations['booked_at'] = pd.to_datetime(conversations['booked_at'])\n",
    "conversations['cancelled_at'] = pd.to_datetime(conversations['cancelled_at']) #convert booked_at and cancelled_at to \n",
    "                                                                              #datetime objects"
   ]
  },
  {
   "cell_type": "code",
   "execution_count": 10,
   "metadata": {},
   "outputs": [
    {
     "data": {
      "text/html": [
       "<div>\n",
       "<style scoped>\n",
       "    .dataframe tbody tr th:only-of-type {\n",
       "        vertical-align: middle;\n",
       "    }\n",
       "\n",
       "    .dataframe tbody tr th {\n",
       "        vertical-align: top;\n",
       "    }\n",
       "\n",
       "    .dataframe thead th {\n",
       "        text-align: right;\n",
       "    }\n",
       "</style>\n",
       "<table border=\"1\" class=\"dataframe\">\n",
       "  <thead>\n",
       "    <tr style=\"text-align: right;\">\n",
       "      <th></th>\n",
       "      <th>id</th>\n",
       "      <th>start_date</th>\n",
       "      <th>end_date</th>\n",
       "      <th>units</th>\n",
       "      <th>added</th>\n",
       "      <th>booking_total</th>\n",
       "      <th>cancellation_fault</th>\n",
       "      <th>requester_id</th>\n",
       "      <th>service_id</th>\n",
       "      <th>booked_at</th>\n",
       "      <th>cancelled_at</th>\n",
       "    </tr>\n",
       "  </thead>\n",
       "  <tbody>\n",
       "    <tr>\n",
       "      <th>0</th>\n",
       "      <td>1</td>\n",
       "      <td>2018-07-26</td>\n",
       "      <td>2018-07-31</td>\n",
       "      <td>5</td>\n",
       "      <td>2018-07-16 10:17:53.460035</td>\n",
       "      <td>120</td>\n",
       "      <td>NaN</td>\n",
       "      <td>64393</td>\n",
       "      <td>4646</td>\n",
       "      <td>NaT</td>\n",
       "      <td>NaT</td>\n",
       "    </tr>\n",
       "    <tr>\n",
       "      <th>1</th>\n",
       "      <td>2</td>\n",
       "      <td>2018-08-10</td>\n",
       "      <td>2018-08-16</td>\n",
       "      <td>6</td>\n",
       "      <td>2018-08-01 10:20:48.626868</td>\n",
       "      <td>132</td>\n",
       "      <td>NaN</td>\n",
       "      <td>64392</td>\n",
       "      <td>10126</td>\n",
       "      <td>NaT</td>\n",
       "      <td>NaT</td>\n",
       "    </tr>\n",
       "    <tr>\n",
       "      <th>2</th>\n",
       "      <td>3</td>\n",
       "      <td>2018-06-16</td>\n",
       "      <td>2018-06-19</td>\n",
       "      <td>3</td>\n",
       "      <td>2018-06-05 16:46:39.542467</td>\n",
       "      <td>168</td>\n",
       "      <td>NaN</td>\n",
       "      <td>64391</td>\n",
       "      <td>20677</td>\n",
       "      <td>NaT</td>\n",
       "      <td>NaT</td>\n",
       "    </tr>\n",
       "    <tr>\n",
       "      <th>3</th>\n",
       "      <td>4</td>\n",
       "      <td>2018-07-13</td>\n",
       "      <td>2018-07-20</td>\n",
       "      <td>7</td>\n",
       "      <td>2018-07-02 09:12:22.275923</td>\n",
       "      <td>490</td>\n",
       "      <td>NaN</td>\n",
       "      <td>64391</td>\n",
       "      <td>3847</td>\n",
       "      <td>NaT</td>\n",
       "      <td>NaT</td>\n",
       "    </tr>\n",
       "    <tr>\n",
       "      <th>4</th>\n",
       "      <td>5</td>\n",
       "      <td>2018-07-02</td>\n",
       "      <td>2018-07-07</td>\n",
       "      <td>5</td>\n",
       "      <td>2018-06-21 16:02:48.694725</td>\n",
       "      <td>140</td>\n",
       "      <td>NaN</td>\n",
       "      <td>64389</td>\n",
       "      <td>9982</td>\n",
       "      <td>NaT</td>\n",
       "      <td>NaT</td>\n",
       "    </tr>\n",
       "  </tbody>\n",
       "</table>\n",
       "</div>"
      ],
      "text/plain": [
       "   id  start_date    end_date  units                      added  \\\n",
       "0   1  2018-07-26  2018-07-31      5 2018-07-16 10:17:53.460035   \n",
       "1   2  2018-08-10  2018-08-16      6 2018-08-01 10:20:48.626868   \n",
       "2   3  2018-06-16  2018-06-19      3 2018-06-05 16:46:39.542467   \n",
       "3   4  2018-07-13  2018-07-20      7 2018-07-02 09:12:22.275923   \n",
       "4   5  2018-07-02  2018-07-07      5 2018-06-21 16:02:48.694725   \n",
       "\n",
       "   booking_total cancellation_fault  requester_id  service_id booked_at  \\\n",
       "0            120                NaN         64393        4646       NaT   \n",
       "1            132                NaN         64392       10126       NaT   \n",
       "2            168                NaN         64391       20677       NaT   \n",
       "3            490                NaN         64391        3847       NaT   \n",
       "4            140                NaN         64389        9982       NaT   \n",
       "\n",
       "  cancelled_at  \n",
       "0          NaT  \n",
       "1          NaT  \n",
       "2          NaT  \n",
       "3          NaT  \n",
       "4          NaT  "
      ]
     },
     "execution_count": 10,
     "metadata": {},
     "output_type": "execute_result"
    }
   ],
   "source": [
    "conversations.head()"
   ]
  },
  {
   "cell_type": "code",
   "execution_count": 11,
   "metadata": {},
   "outputs": [],
   "source": [
    "booked = conversations['booked_at'].isna()"
   ]
  },
  {
   "cell_type": "code",
   "execution_count": 13,
   "metadata": {},
   "outputs": [],
   "source": [
    "booked_na = booked.astype(int) #convert boolean to 1 (True) or 0 (False)"
   ]
  },
  {
   "cell_type": "code",
   "execution_count": 14,
   "metadata": {},
   "outputs": [],
   "source": [
    "conversations['not_booked'] = booked_na "
   ]
  },
  {
   "cell_type": "code",
   "execution_count": 16,
   "metadata": {},
   "outputs": [
    {
     "data": {
      "text/html": [
       "<div>\n",
       "<style scoped>\n",
       "    .dataframe tbody tr th:only-of-type {\n",
       "        vertical-align: middle;\n",
       "    }\n",
       "\n",
       "    .dataframe tbody tr th {\n",
       "        vertical-align: top;\n",
       "    }\n",
       "\n",
       "    .dataframe thead th {\n",
       "        text-align: right;\n",
       "    }\n",
       "</style>\n",
       "<table border=\"1\" class=\"dataframe\">\n",
       "  <thead>\n",
       "    <tr style=\"text-align: right;\">\n",
       "      <th></th>\n",
       "      <th>id</th>\n",
       "      <th>start_date</th>\n",
       "      <th>end_date</th>\n",
       "      <th>units</th>\n",
       "      <th>added</th>\n",
       "      <th>booking_total</th>\n",
       "      <th>cancellation_fault</th>\n",
       "      <th>requester_id</th>\n",
       "      <th>service_id</th>\n",
       "      <th>booked_at</th>\n",
       "      <th>cancelled_at</th>\n",
       "      <th>not_booked</th>\n",
       "    </tr>\n",
       "  </thead>\n",
       "  <tbody>\n",
       "    <tr>\n",
       "      <th>0</th>\n",
       "      <td>1</td>\n",
       "      <td>2018-07-26</td>\n",
       "      <td>2018-07-31</td>\n",
       "      <td>5</td>\n",
       "      <td>2018-07-16 10:17:53.460035</td>\n",
       "      <td>120</td>\n",
       "      <td>NaN</td>\n",
       "      <td>64393</td>\n",
       "      <td>4646</td>\n",
       "      <td>NaT</td>\n",
       "      <td>NaT</td>\n",
       "      <td>1</td>\n",
       "    </tr>\n",
       "    <tr>\n",
       "      <th>1</th>\n",
       "      <td>2</td>\n",
       "      <td>2018-08-10</td>\n",
       "      <td>2018-08-16</td>\n",
       "      <td>6</td>\n",
       "      <td>2018-08-01 10:20:48.626868</td>\n",
       "      <td>132</td>\n",
       "      <td>NaN</td>\n",
       "      <td>64392</td>\n",
       "      <td>10126</td>\n",
       "      <td>NaT</td>\n",
       "      <td>NaT</td>\n",
       "      <td>1</td>\n",
       "    </tr>\n",
       "    <tr>\n",
       "      <th>2</th>\n",
       "      <td>3</td>\n",
       "      <td>2018-06-16</td>\n",
       "      <td>2018-06-19</td>\n",
       "      <td>3</td>\n",
       "      <td>2018-06-05 16:46:39.542467</td>\n",
       "      <td>168</td>\n",
       "      <td>NaN</td>\n",
       "      <td>64391</td>\n",
       "      <td>20677</td>\n",
       "      <td>NaT</td>\n",
       "      <td>NaT</td>\n",
       "      <td>1</td>\n",
       "    </tr>\n",
       "    <tr>\n",
       "      <th>3</th>\n",
       "      <td>4</td>\n",
       "      <td>2018-07-13</td>\n",
       "      <td>2018-07-20</td>\n",
       "      <td>7</td>\n",
       "      <td>2018-07-02 09:12:22.275923</td>\n",
       "      <td>490</td>\n",
       "      <td>NaN</td>\n",
       "      <td>64391</td>\n",
       "      <td>3847</td>\n",
       "      <td>NaT</td>\n",
       "      <td>NaT</td>\n",
       "      <td>1</td>\n",
       "    </tr>\n",
       "    <tr>\n",
       "      <th>4</th>\n",
       "      <td>5</td>\n",
       "      <td>2018-07-02</td>\n",
       "      <td>2018-07-07</td>\n",
       "      <td>5</td>\n",
       "      <td>2018-06-21 16:02:48.694725</td>\n",
       "      <td>140</td>\n",
       "      <td>NaN</td>\n",
       "      <td>64389</td>\n",
       "      <td>9982</td>\n",
       "      <td>NaT</td>\n",
       "      <td>NaT</td>\n",
       "      <td>1</td>\n",
       "    </tr>\n",
       "  </tbody>\n",
       "</table>\n",
       "</div>"
      ],
      "text/plain": [
       "   id  start_date    end_date  units                      added  \\\n",
       "0   1  2018-07-26  2018-07-31      5 2018-07-16 10:17:53.460035   \n",
       "1   2  2018-08-10  2018-08-16      6 2018-08-01 10:20:48.626868   \n",
       "2   3  2018-06-16  2018-06-19      3 2018-06-05 16:46:39.542467   \n",
       "3   4  2018-07-13  2018-07-20      7 2018-07-02 09:12:22.275923   \n",
       "4   5  2018-07-02  2018-07-07      5 2018-06-21 16:02:48.694725   \n",
       "\n",
       "   booking_total cancellation_fault  requester_id  service_id booked_at  \\\n",
       "0            120                NaN         64393        4646       NaT   \n",
       "1            132                NaN         64392       10126       NaT   \n",
       "2            168                NaN         64391       20677       NaT   \n",
       "3            490                NaN         64391        3847       NaT   \n",
       "4            140                NaN         64389        9982       NaT   \n",
       "\n",
       "  cancelled_at  not_booked  \n",
       "0          NaT           1  \n",
       "1          NaT           1  \n",
       "2          NaT           1  \n",
       "3          NaT           1  \n",
       "4          NaT           1  "
      ]
     },
     "execution_count": 16,
     "metadata": {},
     "output_type": "execute_result"
    }
   ],
   "source": [
    "conversations.head()"
   ]
  },
  {
   "cell_type": "code",
   "execution_count": 17,
   "metadata": {},
   "outputs": [],
   "source": [
    "date_groups = conversations.groupby([conversations['added'].dt.date])['not_booked'].mean() \n",
    "#group conversations by date"
   ]
  },
  {
   "cell_type": "code",
   "execution_count": 18,
   "metadata": {},
   "outputs": [],
   "source": [
    "date_groups = date_groups.reset_index()"
   ]
  },
  {
   "cell_type": "code",
   "execution_count": 19,
   "metadata": {},
   "outputs": [],
   "source": [
    "last_90 = date_groups[-90:] #get the last 90 days"
   ]
  },
  {
   "cell_type": "code",
   "execution_count": 20,
   "metadata": {},
   "outputs": [
    {
     "name": "stderr",
     "output_type": "stream",
     "text": [
      "/anaconda3/lib/python3.6/site-packages/ipykernel_launcher.py:1: SettingWithCopyWarning: \n",
      "A value is trying to be set on a copy of a slice from a DataFrame.\n",
      "Try using .loc[row_indexer,col_indexer] = value instead\n",
      "\n",
      "See the caveats in the documentation: http://pandas.pydata.org/pandas-docs/stable/indexing.html#indexing-view-versus-copy\n",
      "  \"\"\"Entry point for launching an IPython kernel.\n"
     ]
    }
   ],
   "source": [
    "last_90['booking_rate'] = (1 - last_90['not_booked'])\n"
   ]
  },
  {
   "cell_type": "code",
   "execution_count": 22,
   "metadata": {},
   "outputs": [
    {
     "data": {
      "text/html": [
       "<div>\n",
       "<style scoped>\n",
       "    .dataframe tbody tr th:only-of-type {\n",
       "        vertical-align: middle;\n",
       "    }\n",
       "\n",
       "    .dataframe tbody tr th {\n",
       "        vertical-align: top;\n",
       "    }\n",
       "\n",
       "    .dataframe thead th {\n",
       "        text-align: right;\n",
       "    }\n",
       "</style>\n",
       "<table border=\"1\" class=\"dataframe\">\n",
       "  <thead>\n",
       "    <tr style=\"text-align: right;\">\n",
       "      <th></th>\n",
       "      <th>added</th>\n",
       "      <th>not_booked</th>\n",
       "      <th>booking_rate</th>\n",
       "    </tr>\n",
       "  </thead>\n",
       "  <tbody>\n",
       "    <tr>\n",
       "      <th>630</th>\n",
       "      <td>2018-05-04</td>\n",
       "      <td>0.552995</td>\n",
       "      <td>0.447005</td>\n",
       "    </tr>\n",
       "    <tr>\n",
       "      <th>631</th>\n",
       "      <td>2018-05-05</td>\n",
       "      <td>0.553097</td>\n",
       "      <td>0.446903</td>\n",
       "    </tr>\n",
       "    <tr>\n",
       "      <th>632</th>\n",
       "      <td>2018-05-06</td>\n",
       "      <td>0.552174</td>\n",
       "      <td>0.447826</td>\n",
       "    </tr>\n",
       "    <tr>\n",
       "      <th>633</th>\n",
       "      <td>2018-05-07</td>\n",
       "      <td>0.514563</td>\n",
       "      <td>0.485437</td>\n",
       "    </tr>\n",
       "    <tr>\n",
       "      <th>634</th>\n",
       "      <td>2018-05-08</td>\n",
       "      <td>0.592920</td>\n",
       "      <td>0.407080</td>\n",
       "    </tr>\n",
       "  </tbody>\n",
       "</table>\n",
       "</div>"
      ],
      "text/plain": [
       "          added  not_booked  booking_rate\n",
       "630  2018-05-04    0.552995      0.447005\n",
       "631  2018-05-05    0.553097      0.446903\n",
       "632  2018-05-06    0.552174      0.447826\n",
       "633  2018-05-07    0.514563      0.485437\n",
       "634  2018-05-08    0.592920      0.407080"
      ]
     },
     "execution_count": 22,
     "metadata": {},
     "output_type": "execute_result"
    }
   ],
   "source": [
    "last_90.head()"
   ]
  },
  {
   "cell_type": "code",
   "execution_count": 23,
   "metadata": {},
   "outputs": [
    {
     "data": {
      "image/png": "[encoded data removed]",
      "text/plain": [
       "<Figure size 720x576 with 1 Axes>"
      ]
     },
     "metadata": {},
     "output_type": "display_data"
    }
   ],
   "source": [
    "fig, ax = plt.subplots(figsize = (10,8))\n",
    "ax.scatter(last_90.index, last_90['booking_rate'])\n",
    "ax.set_title('Daily Booking Rate for Last 90 Days')\n",
    "ax.set_ylabel('Percent Convos to Bookings')\n",
    "ax.set_xlabel('Date')\n",
    "ax.vlines(712, ymin=0, ymax=0.9, color='r')\n",
    "labels = [0, '2018-05-13', '2018-06-02', '2018-06-22', '2018-07-12', '2018-08-02']\n",
    "_x = ax.set_xticklabels(labels=labels)"
   ]
  },
  {
   "cell_type": "markdown",
   "metadata": {},
   "source": [
    "#### Downward booking rate may be due to lag in booking rates, and we simply haven't waited long enough to know if conversations in the past week will result in bookings.  Lets look at the lag times between added and booked_at for conversations that result in bookings."
   ]
  },
  {
   "cell_type": "code",
   "execution_count": 27,
   "metadata": {},
   "outputs": [],
   "source": [
    "conversations_booked = conversations[~conversations['booked_at'].isna()] #find the booked conversations"
   ]
  },
  {
   "cell_type": "code",
   "execution_count": 28,
   "metadata": {},
   "outputs": [
    {
     "data": {
      "text/html": [
       "<div>\n",
       "<style scoped>\n",
       "    .dataframe tbody tr th:only-of-type {\n",
       "        vertical-align: middle;\n",
       "    }\n",
       "\n",
       "    .dataframe tbody tr th {\n",
       "        vertical-align: top;\n",
       "    }\n",
       "\n",
       "    .dataframe thead th {\n",
       "        text-align: right;\n",
       "    }\n",
       "</style>\n",
       "<table border=\"1\" class=\"dataframe\">\n",
       "  <thead>\n",
       "    <tr style=\"text-align: right;\">\n",
       "      <th></th>\n",
       "      <th>id</th>\n",
       "      <th>start_date</th>\n",
       "      <th>end_date</th>\n",
       "      <th>units</th>\n",
       "      <th>added</th>\n",
       "      <th>booking_total</th>\n",
       "      <th>cancellation_fault</th>\n",
       "      <th>requester_id</th>\n",
       "      <th>service_id</th>\n",
       "      <th>booked_at</th>\n",
       "      <th>cancelled_at</th>\n",
       "      <th>not_booked</th>\n",
       "    </tr>\n",
       "  </thead>\n",
       "  <tbody>\n",
       "    <tr>\n",
       "      <th>5</th>\n",
       "      <td>6</td>\n",
       "      <td>2018-07-04</td>\n",
       "      <td>2018-07-07</td>\n",
       "      <td>3</td>\n",
       "      <td>2018-06-23 16:16:16.891344</td>\n",
       "      <td>78</td>\n",
       "      <td>NaN</td>\n",
       "      <td>64388</td>\n",
       "      <td>14772</td>\n",
       "      <td>2018-06-27 14:39:51.433544</td>\n",
       "      <td>NaT</td>\n",
       "      <td>0</td>\n",
       "    </tr>\n",
       "    <tr>\n",
       "      <th>6</th>\n",
       "      <td>7</td>\n",
       "      <td>2018-07-31</td>\n",
       "      <td>2018-08-04</td>\n",
       "      <td>4</td>\n",
       "      <td>2018-07-21 04:55:57.951572</td>\n",
       "      <td>100</td>\n",
       "      <td>NaN</td>\n",
       "      <td>64386</td>\n",
       "      <td>14783</td>\n",
       "      <td>2018-07-22 02:50:20.676664</td>\n",
       "      <td>NaT</td>\n",
       "      <td>0</td>\n",
       "    </tr>\n",
       "    <tr>\n",
       "      <th>8</th>\n",
       "      <td>9</td>\n",
       "      <td>2018-07-02</td>\n",
       "      <td>2018-07-03</td>\n",
       "      <td>1</td>\n",
       "      <td>2018-06-21 06:23:08.092389</td>\n",
       "      <td>23</td>\n",
       "      <td>NaN</td>\n",
       "      <td>64384</td>\n",
       "      <td>7656</td>\n",
       "      <td>2018-06-23 01:49:33.596667</td>\n",
       "      <td>NaT</td>\n",
       "      <td>0</td>\n",
       "    </tr>\n",
       "    <tr>\n",
       "      <th>10</th>\n",
       "      <td>11</td>\n",
       "      <td>2018-06-12</td>\n",
       "      <td>2018-06-18</td>\n",
       "      <td>6</td>\n",
       "      <td>2018-06-03 09:11:33.421951</td>\n",
       "      <td>300</td>\n",
       "      <td>NaN</td>\n",
       "      <td>64382</td>\n",
       "      <td>2512</td>\n",
       "      <td>2018-06-07 01:24:20.187356</td>\n",
       "      <td>NaT</td>\n",
       "      <td>0</td>\n",
       "    </tr>\n",
       "    <tr>\n",
       "      <th>12</th>\n",
       "      <td>13</td>\n",
       "      <td>2018-07-24</td>\n",
       "      <td>2018-07-27</td>\n",
       "      <td>3</td>\n",
       "      <td>2018-07-13 10:30:05.875588</td>\n",
       "      <td>126</td>\n",
       "      <td>NaN</td>\n",
       "      <td>64381</td>\n",
       "      <td>1634</td>\n",
       "      <td>2018-07-19 01:01:11.552880</td>\n",
       "      <td>NaT</td>\n",
       "      <td>0</td>\n",
       "    </tr>\n",
       "  </tbody>\n",
       "</table>\n",
       "</div>"
      ],
      "text/plain": [
       "    id  start_date    end_date  units                      added  \\\n",
       "5    6  2018-07-04  2018-07-07      3 2018-06-23 16:16:16.891344   \n",
       "6    7  2018-07-31  2018-08-04      4 2018-07-21 04:55:57.951572   \n",
       "8    9  2018-07-02  2018-07-03      1 2018-06-21 06:23:08.092389   \n",
       "10  11  2018-06-12  2018-06-18      6 2018-06-03 09:11:33.421951   \n",
       "12  13  2018-07-24  2018-07-27      3 2018-07-13 10:30:05.875588   \n",
       "\n",
       "    booking_total cancellation_fault  requester_id  service_id  \\\n",
       "5              78                NaN         64388       14772   \n",
       "6             100                NaN         64386       14783   \n",
       "8              23                NaN         64384        7656   \n",
       "10            300                NaN         64382        2512   \n",
       "12            126                NaN         64381        1634   \n",
       "\n",
       "                    booked_at cancelled_at  not_booked  \n",
       "5  2018-06-27 14:39:51.433544          NaT           0  \n",
       "6  2018-07-22 02:50:20.676664          NaT           0  \n",
       "8  2018-06-23 01:49:33.596667          NaT           0  \n",
       "10 2018-06-07 01:24:20.187356          NaT           0  \n",
       "12 2018-07-19 01:01:11.552880          NaT           0  "
      ]
     },
     "execution_count": 28,
     "metadata": {},
     "output_type": "execute_result"
    }
   ],
   "source": [
    "conversations_booked.head()"
   ]
  },
  {
   "cell_type": "code",
   "execution_count": 29,
   "metadata": {},
   "outputs": [],
   "source": [
    "days_booked = conversations_booked['booked_at']-conversations_booked['added']"
   ]
  },
  {
   "cell_type": "code",
   "execution_count": 30,
   "metadata": {},
   "outputs": [
    {
     "name": "stderr",
     "output_type": "stream",
     "text": [
      "/anaconda3/lib/python3.6/site-packages/ipykernel_launcher.py:1: SettingWithCopyWarning: \n",
      "A value is trying to be set on a copy of a slice from a DataFrame.\n",
      "Try using .loc[row_indexer,col_indexer] = value instead\n",
      "\n",
      "See the caveats in the documentation: http://pandas.pydata.org/pandas-docs/stable/indexing.html#indexing-view-versus-copy\n",
      "  \"\"\"Entry point for launching an IPython kernel.\n"
     ]
    }
   ],
   "source": [
    "conversations_booked['day_to_book'] = days_booked.dt.days.astype(int)"
   ]
  },
  {
   "cell_type": "code",
   "execution_count": 31,
   "metadata": {},
   "outputs": [
    {
     "data": {
      "text/plain": [
       "count    33466.000000\n",
       "mean         2.675701\n",
       "std          1.807577\n",
       "min          0.000000\n",
       "25%          1.000000\n",
       "50%          2.000000\n",
       "75%          4.000000\n",
       "max         11.000000\n",
       "Name: day_to_book, dtype: float64"
      ]
     },
     "execution_count": 31,
     "metadata": {},
     "output_type": "execute_result"
    }
   ],
   "source": [
    "conversations_booked['day_to_book'].describe()"
   ]
  },
  {
   "cell_type": "code",
   "execution_count": 32,
   "metadata": {},
   "outputs": [
    {
     "data": {
      "text/plain": [
       "3.54285092"
      ]
     },
     "execution_count": 32,
     "metadata": {},
     "output_type": "execute_result"
    }
   ],
   "source": [
    "confidence_95percent = 1.96*(1.807577)\n",
    "confidence_95percent #computing the 95% confidence interval"
   ]
  },
  {
   "cell_type": "code",
   "execution_count": 33,
   "metadata": {},
   "outputs": [],
   "source": [
    "booking_lags_df = conversations_booked.groupby([conversations['added'].dt.date])['day_to_book'].mean()"
   ]
  },
  {
   "cell_type": "code",
   "execution_count": 34,
   "metadata": {},
   "outputs": [],
   "source": [
    "booking_lags_df = booking_lags_df.reset_index()"
   ]
  },
  {
   "cell_type": "code",
   "execution_count": 35,
   "metadata": {},
   "outputs": [],
   "source": [
    "booking_lags_df_90 = booking_lags_df[-90:]"
   ]
  },
  {
   "cell_type": "code",
   "execution_count": 38,
   "metadata": {},
   "outputs": [
    {
     "data": {
      "text/html": [
       "<div>\n",
       "<style scoped>\n",
       "    .dataframe tbody tr th:only-of-type {\n",
       "        vertical-align: middle;\n",
       "    }\n",
       "\n",
       "    .dataframe tbody tr th {\n",
       "        vertical-align: top;\n",
       "    }\n",
       "\n",
       "    .dataframe thead th {\n",
       "        text-align: right;\n",
       "    }\n",
       "</style>\n",
       "<table border=\"1\" class=\"dataframe\">\n",
       "  <thead>\n",
       "    <tr style=\"text-align: right;\">\n",
       "      <th></th>\n",
       "      <th>added</th>\n",
       "      <th>day_to_book</th>\n",
       "    </tr>\n",
       "  </thead>\n",
       "  <tbody>\n",
       "    <tr>\n",
       "      <th>624</th>\n",
       "      <td>2018-05-04</td>\n",
       "      <td>2.484536</td>\n",
       "    </tr>\n",
       "    <tr>\n",
       "      <th>625</th>\n",
       "      <td>2018-05-05</td>\n",
       "      <td>2.485149</td>\n",
       "    </tr>\n",
       "    <tr>\n",
       "      <th>626</th>\n",
       "      <td>2018-05-06</td>\n",
       "      <td>2.621359</td>\n",
       "    </tr>\n",
       "    <tr>\n",
       "      <th>627</th>\n",
       "      <td>2018-05-07</td>\n",
       "      <td>2.380000</td>\n",
       "    </tr>\n",
       "    <tr>\n",
       "      <th>628</th>\n",
       "      <td>2018-05-08</td>\n",
       "      <td>2.967391</td>\n",
       "    </tr>\n",
       "  </tbody>\n",
       "</table>\n",
       "</div>"
      ],
      "text/plain": [
       "          added  day_to_book\n",
       "624  2018-05-04     2.484536\n",
       "625  2018-05-05     2.485149\n",
       "626  2018-05-06     2.621359\n",
       "627  2018-05-07     2.380000\n",
       "628  2018-05-08     2.967391"
      ]
     },
     "execution_count": 38,
     "metadata": {},
     "output_type": "execute_result"
    }
   ],
   "source": [
    "booking_lags_df_90.head()"
   ]
  },
  {
   "cell_type": "code",
   "execution_count": 39,
   "metadata": {},
   "outputs": [
    {
     "data": {
      "image/png": "[encoded data removed]",
      "text/plain": [
       "<Figure size 720x576 with 1 Axes>"
      ]
     },
     "metadata": {},
     "output_type": "display_data"
    }
   ],
   "source": [
    "fig, ax = plt.subplots(figsize = (10,8))\n",
    "ax.scatter(booking_lags_df_90.index, booking_lags_df_90['day_to_book'])\n",
    "ax.set_title('Daily Booking Rate Lags for Last 90 Days')\n",
    "ax.set_ylabel('Avg Lag Days to Bookings')\n",
    "ax.set_xlabel('Date')\n",
    "ax.vlines(707, ymin=0, ymax=4, color='r')\n",
    "labels = [0, '2018-05-1', '2018-05-20', '2018-06-09', '2018-06-29', '2018-07-19']\n",
    "_x = ax.set_xticklabels(labels=labels)"
   ]
  },
  {
   "cell_type": "code",
   "execution_count": null,
   "metadata": {},
   "outputs": [],
   "source": []
  }
 ],
 "metadata": {
  "kernelspec": {
   "display_name": "Python 3",
   "language": "python",
   "name": "python3"
  },
  "language_info": {
   "codemirror_mode": {
    "name": "ipython",
    "version": 3
   },
   "file_extension": ".py",
   "mimetype": "text/x-python",
   "name": "python",
   "nbconvert_exporter": "python",
   "pygments_lexer": "ipython3",
   "version": "3.6.6"
  }
 },
 "nbformat": 4,
 "nbformat_minor": 2
}
