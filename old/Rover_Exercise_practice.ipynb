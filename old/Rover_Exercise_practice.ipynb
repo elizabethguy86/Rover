{
 "cells": [
  {
   "cell_type": "code",
   "execution_count": 2,
   "metadata": {},
   "outputs": [],
   "source": [
    "import sqlite3\n",
    "from sqlite3 import Error\n",
    "import pandas as pd\n",
    "import matplotlib.pyplot as plt\n",
    "from Rover_Exercise_Guy import create_connection"
   ]
  },
  {
   "cell_type": "markdown",
   "metadata": {},
   "source": [
    "## First, connect to the database: "
   ]
  },
  {
   "cell_type": "code",
   "execution_count": 8,
   "metadata": {},
   "outputs": [],
   "source": [
    "conn = create_connection('db1.sqlite3')"
   ]
  },
  {
   "cell_type": "markdown",
   "metadata": {},
   "source": [
    "#### Select all the table names and show them:"
   ]
  },
  {
   "cell_type": "code",
   "execution_count": 9,
   "metadata": {},
   "outputs": [
    {
     "name": "stdout",
     "output_type": "stream",
     "text": [
      "[('sqlite_sequence',), ('pets_pet',), ('conversations_conversation_pets',), ('conversations_review',), ('conversations_message',), ('conversations_conversation',), ('people_person',), ('people_testsegmentation',), ('services_service',)]\n"
     ]
    }
   ],
   "source": [
    "cursor = conn.cursor()\n",
    "cursor.execute(\"SELECT name FROM sqlite_master WHERE type='table';\")\n",
    "print(cursor.fetchall())"
   ]
  },
  {
   "cell_type": "code",
   "execution_count": 12,
   "metadata": {},
   "outputs": [],
   "source": [
    "query = cursor.execute(\"\"\"SELECT * from pets_pet\"\"\")"
   ]
  },
  {
   "cell_type": "markdown",
   "metadata": {},
   "source": [
    "### Using Pandas:"
   ]
  },
  {
   "cell_type": "code",
   "execution_count": 96,
   "metadata": {},
   "outputs": [],
   "source": [
    "df_users = pd.read_csv('csvs/people_person.csv')"
   ]
  },
  {
   "cell_type": "markdown",
   "metadata": {},
   "source": [
    "Look at the datatypes in the database:"
   ]
  },
  {
   "cell_type": "code",
   "execution_count": 97,
   "metadata": {},
   "outputs": [
    {
     "data": {
      "text/plain": [
       "id               int64\n",
       "first_name      object\n",
       "last_name       object\n",
       "email           object\n",
       "channel         object\n",
       "date_joined     object\n",
       "photo           object\n",
       "fee            float64\n",
       "gender          object\n",
       "dtype: object"
      ]
     },
     "execution_count": 97,
     "metadata": {},
     "output_type": "execute_result"
    }
   ],
   "source": [
    "df_users.dtypes"
   ]
  },
  {
   "cell_type": "code",
   "execution_count": 98,
   "metadata": {},
   "outputs": [
    {
     "data": {
      "text/html": [
       "<div>\n",
       "<style scoped>\n",
       "    .dataframe tbody tr th:only-of-type {\n",
       "        vertical-align: middle;\n",
       "    }\n",
       "\n",
       "    .dataframe tbody tr th {\n",
       "        vertical-align: top;\n",
       "    }\n",
       "\n",
       "    .dataframe thead th {\n",
       "        text-align: right;\n",
       "    }\n",
       "</style>\n",
       "<table border=\"1\" class=\"dataframe\">\n",
       "  <thead>\n",
       "    <tr style=\"text-align: right;\">\n",
       "      <th></th>\n",
       "      <th>id</th>\n",
       "      <th>first_name</th>\n",
       "      <th>last_name</th>\n",
       "      <th>email</th>\n",
       "      <th>channel</th>\n",
       "      <th>date_joined</th>\n",
       "      <th>photo</th>\n",
       "      <th>fee</th>\n",
       "      <th>gender</th>\n",
       "    </tr>\n",
       "  </thead>\n",
       "  <tbody>\n",
       "    <tr>\n",
       "      <th>0</th>\n",
       "      <td>1</td>\n",
       "      <td>Leanora</td>\n",
       "      <td>Allcock</td>\n",
       "      <td>leanora.allcock635@hotmail.com</td>\n",
       "      <td>NaN</td>\n",
       "      <td>2016-08-02 14:59:15.095591</td>\n",
       "      <td>https://placekitten.com/242/269</td>\n",
       "      <td>0.0</td>\n",
       "      <td>f</td>\n",
       "    </tr>\n",
       "    <tr>\n",
       "      <th>1</th>\n",
       "      <td>2</td>\n",
       "      <td>Elroy</td>\n",
       "      <td>Blanding</td>\n",
       "      <td>elroy.blanding510@yahoo.com</td>\n",
       "      <td>NaN</td>\n",
       "      <td>2016-08-02 18:15:30.105940</td>\n",
       "      <td>https://placekitten.com/373/320</td>\n",
       "      <td>0.0</td>\n",
       "      <td>m</td>\n",
       "    </tr>\n",
       "    <tr>\n",
       "      <th>2</th>\n",
       "      <td>3</td>\n",
       "      <td>Jeanice</td>\n",
       "      <td>Aleman</td>\n",
       "      <td>jeanice.aleman392@hotmail.com</td>\n",
       "      <td>NaN</td>\n",
       "      <td>2016-08-02 16:11:09.542004</td>\n",
       "      <td>https://placekitten.com/238/264</td>\n",
       "      <td>0.0</td>\n",
       "      <td>f</td>\n",
       "    </tr>\n",
       "    <tr>\n",
       "      <th>3</th>\n",
       "      <td>4</td>\n",
       "      <td>Tamala</td>\n",
       "      <td>Polhamus</td>\n",
       "      <td>tamala.polhamus146@aol.com</td>\n",
       "      <td>NaN</td>\n",
       "      <td>2016-08-02 18:02:40.389299</td>\n",
       "      <td>https://placekitten.com/220/223</td>\n",
       "      <td>0.0</td>\n",
       "      <td>f</td>\n",
       "    </tr>\n",
       "    <tr>\n",
       "      <th>4</th>\n",
       "      <td>5</td>\n",
       "      <td>Alethea</td>\n",
       "      <td>Gubler</td>\n",
       "      <td>alethea.gubler708@aol.com</td>\n",
       "      <td>NaN</td>\n",
       "      <td>2016-08-02 14:31:53.163034</td>\n",
       "      <td>https://placekitten.com/284/339</td>\n",
       "      <td>0.0</td>\n",
       "      <td>f</td>\n",
       "    </tr>\n",
       "  </tbody>\n",
       "</table>\n",
       "</div>"
      ],
      "text/plain": [
       "   id first_name last_name                           email channel  \\\n",
       "0   1    Leanora   Allcock  leanora.allcock635@hotmail.com     NaN   \n",
       "1   2      Elroy  Blanding     elroy.blanding510@yahoo.com     NaN   \n",
       "2   3    Jeanice    Aleman   jeanice.aleman392@hotmail.com     NaN   \n",
       "3   4     Tamala  Polhamus      tamala.polhamus146@aol.com     NaN   \n",
       "4   5    Alethea    Gubler       alethea.gubler708@aol.com     NaN   \n",
       "\n",
       "                  date_joined                            photo  fee gender  \n",
       "0  2016-08-02 14:59:15.095591  https://placekitten.com/242/269  0.0      f  \n",
       "1  2016-08-02 18:15:30.105940  https://placekitten.com/373/320  0.0      m  \n",
       "2  2016-08-02 16:11:09.542004  https://placekitten.com/238/264  0.0      f  \n",
       "3  2016-08-02 18:02:40.389299  https://placekitten.com/220/223  0.0      f  \n",
       "4  2016-08-02 14:31:53.163034  https://placekitten.com/284/339  0.0      f  "
      ]
     },
     "execution_count": 98,
     "metadata": {},
     "output_type": "execute_result"
    }
   ],
   "source": [
    "df_users.head()"
   ]
  },
  {
   "cell_type": "markdown",
   "metadata": {},
   "source": [
    "Get the number of users.  This should be the number of rows in the dataframe, assuming each user is unique:"
   ]
  },
  {
   "cell_type": "code",
   "execution_count": 99,
   "metadata": {},
   "outputs": [
    {
     "data": {
      "text/plain": [
       "64393"
      ]
     },
     "execution_count": 99,
     "metadata": {},
     "output_type": "execute_result"
    }
   ],
   "source": [
    "users = len(df)\n",
    "users"
   ]
  },
  {
   "cell_type": "code",
   "execution_count": 100,
   "metadata": {},
   "outputs": [],
   "source": [
    "df_users['date_joined'] = pd.to_datetime(df_users['date_joined'])"
   ]
  },
  {
   "cell_type": "code",
   "execution_count": 101,
   "metadata": {},
   "outputs": [],
   "source": [
    "df_users['date'] = df_users['date_joined'].dt.date"
   ]
  },
  {
   "cell_type": "code",
   "execution_count": 102,
   "metadata": {},
   "outputs": [],
   "source": [
    "df_users['date'] = pd.to_datetime(df_users['date'])"
   ]
  },
  {
   "cell_type": "code",
   "execution_count": 103,
   "metadata": {},
   "outputs": [
    {
     "data": {
      "text/plain": [
       "id                      int64\n",
       "first_name             object\n",
       "last_name              object\n",
       "email                  object\n",
       "channel                object\n",
       "date_joined    datetime64[ns]\n",
       "photo                  object\n",
       "fee                   float64\n",
       "gender                 object\n",
       "date           datetime64[ns]\n",
       "dtype: object"
      ]
     },
     "execution_count": 103,
     "metadata": {},
     "output_type": "execute_result"
    }
   ],
   "source": [
    "df_users.dtypes"
   ]
  },
  {
   "cell_type": "markdown",
   "metadata": {},
   "source": [
    "### Number of users before 02-03-2018"
   ]
  },
  {
   "cell_type": "code",
   "execution_count": 104,
   "metadata": {},
   "outputs": [
    {
     "data": {
      "text/plain": [
       "35826"
      ]
     },
     "execution_count": 104,
     "metadata": {},
     "output_type": "execute_result"
    }
   ],
   "source": [
    "len(df_users[df_users['date'] < '2018-02-03'])"
   ]
  },
  {
   "cell_type": "markdown",
   "metadata": {},
   "source": [
    "### Read in the dataframe for all pets"
   ]
  },
  {
   "cell_type": "code",
   "execution_count": 116,
   "metadata": {},
   "outputs": [],
   "source": [
    "df_pets = pd.read_csv('csvs/pets_pet.csv')"
   ]
  },
  {
   "cell_type": "code",
   "execution_count": 121,
   "metadata": {},
   "outputs": [
    {
     "data": {
      "text/html": [
       "<div>\n",
       "<style scoped>\n",
       "    .dataframe tbody tr th:only-of-type {\n",
       "        vertical-align: middle;\n",
       "    }\n",
       "\n",
       "    .dataframe tbody tr th {\n",
       "        vertical-align: top;\n",
       "    }\n",
       "\n",
       "    .dataframe thead th {\n",
       "        text-align: right;\n",
       "    }\n",
       "</style>\n",
       "<table border=\"1\" class=\"dataframe\">\n",
       "  <thead>\n",
       "    <tr style=\"text-align: right;\">\n",
       "      <th></th>\n",
       "      <th>id</th>\n",
       "      <th>name</th>\n",
       "      <th>description</th>\n",
       "      <th>gender</th>\n",
       "      <th>weight</th>\n",
       "      <th>birthday</th>\n",
       "      <th>plays_cats</th>\n",
       "      <th>plays_children</th>\n",
       "      <th>plays_dogs</th>\n",
       "      <th>spayed_neutered</th>\n",
       "      <th>house_trained</th>\n",
       "      <th>size</th>\n",
       "      <th>owner_id</th>\n",
       "    </tr>\n",
       "  </thead>\n",
       "  <tbody>\n",
       "    <tr>\n",
       "      <th>0</th>\n",
       "      <td>1</td>\n",
       "      <td>Jammie</td>\n",
       "      <td>Morbi fames a mauris elit malesuada platea.</td>\n",
       "      <td>f</td>\n",
       "      <td>76</td>\n",
       "      <td>2016-05-26</td>\n",
       "      <td>1</td>\n",
       "      <td>1</td>\n",
       "      <td>1</td>\n",
       "      <td>1</td>\n",
       "      <td>1</td>\n",
       "      <td>large</td>\n",
       "      <td>12601</td>\n",
       "    </tr>\n",
       "    <tr>\n",
       "      <th>1</th>\n",
       "      <td>2</td>\n",
       "      <td>Lonnie</td>\n",
       "      <td>Class magna a libero felis sociosqu.</td>\n",
       "      <td>f</td>\n",
       "      <td>12</td>\n",
       "      <td>2014-05-20</td>\n",
       "      <td>0</td>\n",
       "      <td>1</td>\n",
       "      <td>1</td>\n",
       "      <td>1</td>\n",
       "      <td>0</td>\n",
       "      <td>small</td>\n",
       "      <td>12602</td>\n",
       "    </tr>\n",
       "    <tr>\n",
       "      <th>2</th>\n",
       "      <td>3</td>\n",
       "      <td>Emely</td>\n",
       "      <td>Felis class.</td>\n",
       "      <td>m</td>\n",
       "      <td>11</td>\n",
       "      <td>2014-08-21</td>\n",
       "      <td>0</td>\n",
       "      <td>1</td>\n",
       "      <td>1</td>\n",
       "      <td>1</td>\n",
       "      <td>0</td>\n",
       "      <td>small</td>\n",
       "      <td>12602</td>\n",
       "    </tr>\n",
       "    <tr>\n",
       "      <th>3</th>\n",
       "      <td>4</td>\n",
       "      <td>Emelia</td>\n",
       "      <td>Fames class egestas mollis risus posuere.</td>\n",
       "      <td>f</td>\n",
       "      <td>35</td>\n",
       "      <td>2013-09-23</td>\n",
       "      <td>1</td>\n",
       "      <td>1</td>\n",
       "      <td>1</td>\n",
       "      <td>0</td>\n",
       "      <td>0</td>\n",
       "      <td>medium</td>\n",
       "      <td>12603</td>\n",
       "    </tr>\n",
       "    <tr>\n",
       "      <th>4</th>\n",
       "      <td>5</td>\n",
       "      <td>Jami</td>\n",
       "      <td>Netus augue a congue orci.</td>\n",
       "      <td>m</td>\n",
       "      <td>35</td>\n",
       "      <td>2014-05-13</td>\n",
       "      <td>0</td>\n",
       "      <td>1</td>\n",
       "      <td>1</td>\n",
       "      <td>1</td>\n",
       "      <td>1</td>\n",
       "      <td>medium</td>\n",
       "      <td>12603</td>\n",
       "    </tr>\n",
       "  </tbody>\n",
       "</table>\n",
       "</div>"
      ],
      "text/plain": [
       "   id    name                                  description gender  weight  \\\n",
       "0   1  Jammie  Morbi fames a mauris elit malesuada platea.      f      76   \n",
       "1   2  Lonnie         Class magna a libero felis sociosqu.      f      12   \n",
       "2   3   Emely                                 Felis class.      m      11   \n",
       "3   4  Emelia    Fames class egestas mollis risus posuere.      f      35   \n",
       "4   5    Jami                   Netus augue a congue orci.      m      35   \n",
       "\n",
       "     birthday  plays_cats  plays_children  plays_dogs  spayed_neutered  \\\n",
       "0  2016-05-26           1               1           1                1   \n",
       "1  2014-05-20           0               1           1                1   \n",
       "2  2014-08-21           0               1           1                1   \n",
       "3  2013-09-23           1               1           1                0   \n",
       "4  2014-05-13           0               1           1                1   \n",
       "\n",
       "   house_trained    size  owner_id  \n",
       "0              1   large     12601  \n",
       "1              0   small     12602  \n",
       "2              0   small     12602  \n",
       "3              0  medium     12603  \n",
       "4              1  medium     12603  "
      ]
     },
     "execution_count": 121,
     "metadata": {},
     "output_type": "execute_result"
    }
   ],
   "source": [
    "df_pets.head()"
   ]
  },
  {
   "cell_type": "code",
   "execution_count": 117,
   "metadata": {},
   "outputs": [],
   "source": [
    "#these are the number of unique owner_ids among all the pets listed\n",
    "unique_pets = len(df_pets['owner_id'].unique())"
   ]
  },
  {
   "cell_type": "code",
   "execution_count": 118,
   "metadata": {},
   "outputs": [
    {
     "data": {
      "text/plain": [
       "0.804326557234482"
      ]
     },
     "execution_count": 118,
     "metadata": {},
     "output_type": "execute_result"
    }
   ],
   "source": [
    "unique_pets/users #percent of all users who have pets"
   ]
  },
  {
   "cell_type": "code",
   "execution_count": 120,
   "metadata": {},
   "outputs": [
    {
     "data": {
      "text/plain": [
       "1.500781958951982"
      ]
     },
     "execution_count": 120,
     "metadata": {},
     "output_type": "execute_result"
    }
   ],
   "source": [
    "len(df_pets)/unique_pets #number of pets per unique user"
   ]
  },
  {
   "cell_type": "code",
   "execution_count": 127,
   "metadata": {},
   "outputs": [],
   "source": [
    "num_plays_cats = df_pets['plays_cats'].sum()"
   ]
  },
  {
   "cell_type": "code",
   "execution_count": 128,
   "metadata": {},
   "outputs": [
    {
     "data": {
      "text/plain": [
       "0.24850122217933873"
      ]
     },
     "execution_count": 128,
     "metadata": {},
     "output_type": "execute_result"
    }
   ],
   "source": [
    "num_plays_cats/len(df_pets) #percent of pets that play well with cats"
   ]
  },
  {
   "cell_type": "code",
   "execution_count": null,
   "metadata": {},
   "outputs": [],
   "source": []
  }
 ],
 "metadata": {
  "kernelspec": {
   "display_name": "Python 3",
   "language": "python",
   "name": "python3"
  },
  "language_info": {
   "codemirror_mode": {
    "name": "ipython",
    "version": 3
   },
   "file_extension": ".py",
   "mimetype": "text/x-python",
   "name": "python",
   "nbconvert_exporter": "python",
   "pygments_lexer": "ipython3",
   "version": "3.6.6"
  }
 },
 "nbformat": 4,
 "nbformat_minor": 2
}
